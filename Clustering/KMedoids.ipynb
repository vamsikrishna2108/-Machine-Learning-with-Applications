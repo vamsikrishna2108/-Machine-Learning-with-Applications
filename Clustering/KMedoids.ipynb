{
  "nbformat": 4,
  "nbformat_minor": 0,
  "metadata": {
    "colab": {
      "provenance": []
    },
    "kernelspec": {
      "name": "python3",
      "display_name": "Python 3"
    },
    "language_info": {
      "name": "python"
    }
  },
  "cells": [
    {
      "cell_type": "code",
      "source": [
        "pip install scikit-learn-extra"
      ],
      "metadata": {
        "colab": {
          "base_uri": "https://localhost:8080/"
        },
        "id": "5wh7W6mdLmbZ",
        "outputId": "7143bc35-0730-4a53-b9e0-ff792d775b66"
      },
      "execution_count": null,
      "outputs": [
        {
          "output_type": "stream",
          "name": "stdout",
          "text": [
            "Looking in indexes: https://pypi.org/simple, https://us-python.pkg.dev/colab-wheels/public/simple/\n",
            "Collecting scikit-learn-extra\n",
            "  Downloading scikit_learn_extra-0.2.0-cp38-cp38-manylinux2010_x86_64.whl (1.9 MB)\n",
            "\u001b[2K     \u001b[90m━━━━━━━━━━━━━━━━━━━━━━━━━━━━━━━━━━━━━━━━\u001b[0m \u001b[32m1.9/1.9 MB\u001b[0m \u001b[31m19.2 MB/s\u001b[0m eta \u001b[36m0:00:00\u001b[0m\n",
            "\u001b[?25hRequirement already satisfied: scikit-learn>=0.23.0 in /usr/local/lib/python3.8/dist-packages (from scikit-learn-extra) (1.0.2)\n",
            "Requirement already satisfied: scipy>=0.19.1 in /usr/local/lib/python3.8/dist-packages (from scikit-learn-extra) (1.7.3)\n",
            "Requirement already satisfied: numpy>=1.13.3 in /usr/local/lib/python3.8/dist-packages (from scikit-learn-extra) (1.22.4)\n",
            "Requirement already satisfied: threadpoolctl>=2.0.0 in /usr/local/lib/python3.8/dist-packages (from scikit-learn>=0.23.0->scikit-learn-extra) (3.1.0)\n",
            "Requirement already satisfied: joblib>=0.11 in /usr/local/lib/python3.8/dist-packages (from scikit-learn>=0.23.0->scikit-learn-extra) (1.2.0)\n",
            "Installing collected packages: scikit-learn-extra\n",
            "Successfully installed scikit-learn-extra-0.2.0\n"
          ]
        }
      ]
    },
    {
      "cell_type": "code",
      "source": [
        "from sklearn_extra.cluster import KMedoids"
      ],
      "metadata": {
        "id": "FXZAACZVLGON"
      },
      "execution_count": null,
      "outputs": []
    },
    {
      "cell_type": "code",
      "source": [
        "import matplotlib.pyplot as plt\n",
        "import numpy as np\n",
        "\n",
        "from sklearn_extra.cluster import KMedoids\n",
        "from sklearn.datasets import make_blobs\n",
        "\n",
        "# Generate sample data\n",
        "centers = [[1, 1], [-1, -1], [1, -1]]\n",
        "X, labels_true = make_blobs(\n",
        "    n_samples=750, centers=centers, cluster_std=0.4, random_state=0\n",
        ")\n",
        "\n",
        "#print(X)\n",
        "# Compute Kmedoids clustering\n",
        "cobj = KMedoids(n_clusters=3).fit(X)\n",
        "labels = cobj.labels_\n",
        "#print(labels)\n",
        "print(cobj.cluster_centers_)\n",
        "print(cobj.cluster_centers_[0,:])"
      ],
      "metadata": {
        "colab": {
          "base_uri": "https://localhost:8080/"
        },
        "id": "7TShPJ6lLwEi",
        "outputId": "1d536ef6-7308-4fef-e7d4-e9167eb83f14"
      },
      "execution_count": null,
      "outputs": [
        {
          "output_type": "stream",
          "name": "stdout",
          "text": [
            "[[ 1.08687185 -0.96871553]\n",
            " [-1.02245321 -1.00055402]\n",
            " [ 0.94795722  1.03758129]]\n",
            "[ 1.08687185 -0.96871553]\n"
          ]
        }
      ]
    },
    {
      "cell_type": "code",
      "source": [
        "plt.scatter(X[:,0],X[:,1])\n",
        "plt.scatter(cobj.cluster_centers_[0,:1],cobj.cluster_centers_[0,1:2],color='r')\n",
        "plt.scatter(cobj.cluster_centers_[1,:1],cobj.cluster_centers_[1,1:2],color='r')\n",
        "plt.scatter(cobj.cluster_centers_[2,:1],cobj.cluster_centers_[2,1:2],color='r')"
      ],
      "metadata": {
        "colab": {
          "base_uri": "https://localhost:8080/",
          "height": 282
        },
        "id": "bvKqkRBgVkCr",
        "outputId": "d25f7f1d-f63d-4a42-fa66-fbf73dbfe4d0"
      },
      "execution_count": null,
      "outputs": [
        {
          "output_type": "execute_result",
          "data": {
            "text/plain": [
              "<matplotlib.collections.PathCollection at 0x7f4b0e702160>"
            ]
          },
          "metadata": {},
          "execution_count": 4
        },
        {
          "output_type": "display_data",
          "data": {
            "text/plain": [
              "<Figure size 432x288 with 1 Axes>"
            ],
            "image/png": "[encoded data removed]"
          },
          "metadata": {
            "needs_background": "light"
          }
        }
      ]
    },
    {
      "cell_type": "code",
      "source": [
        "import pandas as pd"
      ],
      "metadata": {
        "id": "PFzKkoL236je"
      },
      "execution_count": null,
      "outputs": []
    },
    {
      "cell_type": "code",
      "source": [
        "X=pd.read_csv('kmedoid_data.csv')\n",
        "X=X.values"
      ],
      "metadata": {
        "id": "b8ST-KSENFeR"
      },
      "execution_count": null,
      "outputs": []
    },
    {
      "cell_type": "code",
      "source": [
        "#print(X)\n",
        "# Compute Kmedoids clustering\n",
        "cobj = KMedoids(n_clusters=2).fit(X[:,1:])\n",
        "labels = cobj.labels_\n",
        "#print(labels)\n",
        "print(cobj.cluster_centers_)\n",
        "#print(cobj.cluster_centers_[0,:])"
      ],
      "metadata": {
        "colab": {
          "base_uri": "https://localhost:8080/"
        },
        "id": "CPKdQcNh3ak3",
        "outputId": "f59a5f76-3f00-48fd-dcb4-cd1d9ec5f363"
      },
      "execution_count": null,
      "outputs": [
        {
          "output_type": "stream",
          "name": "stdout",
          "text": [
            "[[3 7]\n",
            " [8 5]]\n"
          ]
        }
      ]
    },
    {
      "cell_type": "code",
      "source": [
        "plt.scatter(X[:,1],X[:,2])\n",
        "plt.scatter(cobj.cluster_centers_[0,:1],cobj.cluster_centers_[0,1:2],color='r')\n",
        "plt.scatter(cobj.cluster_centers_[1,:1],cobj.cluster_centers_[1,1:2],color='r')\n",
        "#plt.scatter(cobj.cluster_centers_[2,:1],cobj.cluster_centers_[2,1:2],color='r')"
      ],
      "metadata": {
        "colab": {
          "base_uri": "https://localhost:8080/",
          "height": 282
        },
        "id": "NFp_H-Hx4Dlz",
        "outputId": "d36b2e71-2140-466d-9d97-9586ab683d95"
      },
      "execution_count": null,
      "outputs": [
        {
          "output_type": "execute_result",
          "data": {
            "text/plain": [
              "<matplotlib.collections.PathCollection at 0x7f4b3f213d00>"
            ]
          },
          "metadata": {},
          "execution_count": 13
        },
        {
          "output_type": "display_data",
          "data": {
            "text/plain": [
              "<Figure size 432x288 with 1 Axes>"
            ],
            "image/png": "[encoded data removed]"
          },
          "metadata": {
            "needs_background": "light"
          }
        }
      ]
    },
    {
      "cell_type": "code",
      "source": [],
      "metadata": {
        "id": "9EL7OBXK4GV2"
      },
      "execution_count": null,
      "outputs": []
    }
  ]
}