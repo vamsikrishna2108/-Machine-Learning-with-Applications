{
  "nbformat": 4,
  "nbformat_minor": 0,
  "metadata": {
    "colab": {
      "provenance": []
    },
    "kernelspec": {
      "name": "python3",
      "display_name": "Python 3"
    },
    "language_info": {
      "name": "python"
    }
  },
  "cells": [
    {
      "cell_type": "markdown",
      "source": [
        "This is a Linear Regression mini project submitted by Aryaman Adivya Singh RA2011003011266 and provides the linear regression on Stock Market.csv dataset."
      ],
      "metadata": {
        "id": "Kxz2ogpg3M9T"
      }
    },
    {
      "cell_type": "markdown",
      "source": [
        "# **Data Extract and Loading**"
      ],
      "metadata": {
        "id": "79CiRHnG3Im7"
      }
    },
    {
      "cell_type": "code",
      "execution_count": null,
      "metadata": {
        "colab": {
          "base_uri": "https://localhost:8080/",
          "height": 73
        },
        "id": "XjEgSD9VnDQL",
        "outputId": "d05dff16-4f4c-48a2-9b07-68ee043aeb49"
      },
      "outputs": [
        {
          "output_type": "display_data",
          "data": {
            "text/plain": [
              "<IPython.core.display.HTML object>"
            ],
            "text/html": [
              "\n",
              "     <input type=\"file\" id=\"files-7f37ebf7-4f9b-4e56-950e-e4f120b343bf\" name=\"files[]\" multiple disabled\n",
              "        style=\"border:none\" />\n",
              "     <output id=\"result-7f37ebf7-4f9b-4e56-950e-e4f120b343bf\">\n",
              "      Upload widget is only available when the cell has been executed in the\n",
              "      current browser session. Please rerun this cell to enable.\n",
              "      </output>\n",
              "      <script>// Copyright 2017 Google LLC\n",
              "//\n",
              "// Licensed under the Apache License, Version 2.0 (the \"License\");\n",
              "// you may not use this file except in compliance with the License.\n",
              "// You may obtain a copy of the License at\n",
              "//\n",
              "//      http://www.apache.org/licenses/LICENSE-2.0\n",
              "//\n",
              "// Unless required by applicable law or agreed to in writing, software\n",
              "// distributed under the License is distributed on an \"AS IS\" BASIS,\n",
              "// WITHOUT WARRANTIES OR CONDITIONS OF ANY KIND, either express or implied.\n",
              "// See the License for the specific language governing permissions and\n",
              "// limitations under the License.\n",
              "\n",
              "/**\n",
              " * @fileoverview Helpers for google.colab Python module.\n",
              " */\n",
              "(function(scope) {\n",
              "function span(text, styleAttributes = {}) {\n",
              "  const element = document.createElement('span');\n",
              "  element.textContent = text;\n",
              "  for (const key of Object.keys(styleAttributes)) {\n",
              "    element.style[key] = styleAttributes[key];\n",
              "  }\n",
              "  return element;\n",
              "}\n",
              "\n",
              "// Max number of bytes which will be uploaded at a time.\n",
              "const MAX_PAYLOAD_SIZE = 100 * 1024;\n",
              "\n",
              "function _uploadFiles(inputId, outputId) {\n",
              "  const steps = uploadFilesStep(inputId, outputId);\n",
              "  const outputElement = document.getElementById(outputId);\n",
              "  // Cache steps on the outputElement to make it available for the next call\n",
              "  // to uploadFilesContinue from Python.\n",
              "  outputElement.steps = steps;\n",
              "\n",
              "  return _uploadFilesContinue(outputId);\n",
              "}\n",
              "\n",
              "// This is roughly an async generator (not supported in the browser yet),\n",
              "// where there are multiple asynchronous steps and the Python side is going\n",
              "// to poll for completion of each step.\n",
              "// This uses a Promise to block the python side on completion of each step,\n",
              "// then passes the result of the previous step as the input to the next step.\n",
              "function _uploadFilesContinue(outputId) {\n",
              "  const outputElement = document.getElementById(outputId);\n",
              "  const steps = outputElement.steps;\n",
              "\n",
              "  const next = steps.next(outputElement.lastPromiseValue);\n",
              "  return Promise.resolve(next.value.promise).then((value) => {\n",
              "    // Cache the last promise value to make it available to the next\n",
              "    // step of the generator.\n",
              "    outputElement.lastPromiseValue = value;\n",
              "    return next.value.response;\n",
              "  });\n",
              "}\n",
              "\n",
              "/**\n",
              " * Generator function which is called between each async step of the upload\n",
              " * process.\n",
              " * @param {string} inputId Element ID of the input file picker element.\n",
              " * @param {string} outputId Element ID of the output display.\n",
              " * @return {!Iterable<!Object>} Iterable of next steps.\n",
              " */\n",
              "function* uploadFilesStep(inputId, outputId) {\n",
              "  const inputElement = document.getElementById(inputId);\n",
              "  inputElement.disabled = false;\n",
              "\n",
              "  const outputElement = document.getElementById(outputId);\n",
              "  outputElement.innerHTML = '';\n",
              "\n",
              "  const pickedPromise = new Promise((resolve) => {\n",
              "    inputElement.addEventListener('change', (e) => {\n",
              "      resolve(e.target.files);\n",
              "    });\n",
              "  });\n",
              "\n",
              "  const cancel = document.createElement('button');\n",
              "  inputElement.parentElement.appendChild(cancel);\n",
              "  cancel.textContent = 'Cancel upload';\n",
              "  const cancelPromise = new Promise((resolve) => {\n",
              "    cancel.onclick = () => {\n",
              "      resolve(null);\n",
              "    };\n",
              "  });\n",
              "\n",
              "  // Wait for the user to pick the files.\n",
              "  const files = yield {\n",
              "    promise: Promise.race([pickedPromise, cancelPromise]),\n",
              "    response: {\n",
              "      action: 'starting',\n",
              "    }\n",
              "  };\n",
              "\n",
              "  cancel.remove();\n",
              "\n",
              "  // Disable the input element since further picks are not allowed.\n",
              "  inputElement.disabled = true;\n",
              "\n",
              "  if (!files) {\n",
              "    return {\n",
              "      response: {\n",
              "        action: 'complete',\n",
              "      }\n",
              "    };\n",
              "  }\n",
              "\n",
              "  for (const file of files) {\n",
              "    const li = document.createElement('li');\n",
              "    li.append(span(file.name, {fontWeight: 'bold'}));\n",
              "    li.append(span(\n",
              "        `(${file.type || 'n/a'}) - ${file.size} bytes, ` +\n",
              "        `last modified: ${\n",
              "            file.lastModifiedDate ? file.lastModifiedDate.toLocaleDateString() :\n",
              "                                    'n/a'} - `));\n",
              "    const percent = span('0% done');\n",
              "    li.appendChild(percent);\n",
              "\n",
              "    outputElement.appendChild(li);\n",
              "\n",
              "    const fileDataPromise = new Promise((resolve) => {\n",
              "      const reader = new FileReader();\n",
              "      reader.onload = (e) => {\n",
              "        resolve(e.target.result);\n",
              "      };\n",
              "      reader.readAsArrayBuffer(file);\n",
              "    });\n",
              "    // Wait for the data to be ready.\n",
              "    let fileData = yield {\n",
              "      promise: fileDataPromise,\n",
              "      response: {\n",
              "        action: 'continue',\n",
              "      }\n",
              "    };\n",
              "\n",
              "    // Use a chunked sending to avoid message size limits. See b/62115660.\n",
              "    let position = 0;\n",
              "    do {\n",
              "      const length = Math.min(fileData.byteLength - position, MAX_PAYLOAD_SIZE);\n",
              "      const chunk = new Uint8Array(fileData, position, length);\n",
              "      position += length;\n",
              "\n",
              "      const base64 = btoa(String.fromCharCode.apply(null, chunk));\n",
              "      yield {\n",
              "        response: {\n",
              "          action: 'append',\n",
              "          file: file.name,\n",
              "          data: base64,\n",
              "        },\n",
              "      };\n",
              "\n",
              "      let percentDone = fileData.byteLength === 0 ?\n",
              "          100 :\n",
              "          Math.round((position / fileData.byteLength) * 100);\n",
              "      percent.textContent = `${percentDone}% done`;\n",
              "\n",
              "    } while (position < fileData.byteLength);\n",
              "  }\n",
              "\n",
              "  // All done.\n",
              "  yield {\n",
              "    response: {\n",
              "      action: 'complete',\n",
              "    }\n",
              "  };\n",
              "}\n",
              "\n",
              "scope.google = scope.google || {};\n",
              "scope.google.colab = scope.google.colab || {};\n",
              "scope.google.colab._files = {\n",
              "  _uploadFiles,\n",
              "  _uploadFilesContinue,\n",
              "};\n",
              "})(self);\n",
              "</script> "
            ]
          },
          "metadata": {}
        },
        {
          "output_type": "stream",
          "name": "stdout",
          "text": [
            "Saving stock market prediction_11266.csv to stock market prediction_11266.csv\n"
          ]
        }
      ],
      "source": [
        "from google.colab import files\n",
        "uploaded = files.upload()"
      ]
    },
    {
      "cell_type": "code",
      "source": [
        "import numpy as np\n",
        "import pandas as pd"
      ],
      "metadata": {
        "id": "nnaFLeLDrQiN"
      },
      "execution_count": null,
      "outputs": []
    },
    {
      "cell_type": "code",
      "source": [
        "df = pd.read_csv('stock market prediction_11266.csv')"
      ],
      "metadata": {
        "id": "R2OXET0zrcjg"
      },
      "execution_count": null,
      "outputs": []
    },
    {
      "cell_type": "code",
      "source": [
        "df.head"
      ],
      "metadata": {
        "colab": {
          "base_uri": "https://localhost:8080/"
        },
        "id": "dB5xFpRzrhWD",
        "outputId": "141c7d0c-28b7-4796-dfab-e0ff1b59af0c"
      },
      "execution_count": null,
      "outputs": [
        {
          "output_type": "execute_result",
          "data": {
            "text/plain": [
              "<bound method NDFrame.head of             Date          Open          High           Low         Close  \\\n",
              "0     2016-07-01  17924.240234  18002.380859  17916.910156  17949.369141   \n",
              "1     2016-06-30  17712.759766  17930.609375  17711.800781  17929.990234   \n",
              "2     2016-06-29  17456.019531  17704.509766  17456.019531  17694.679688   \n",
              "3     2016-06-28  17190.509766  17409.720703  17190.509766  17409.720703   \n",
              "4     2016-06-27  17355.210938  17355.210938  17063.080078  17140.240234   \n",
              "...          ...           ...           ...           ...           ...   \n",
              "1984  2008-08-14  11532.070312  11718.280273  11450.889648  11615.929688   \n",
              "1985  2008-08-13  11632.809570  11633.780273  11453.339844  11532.959961   \n",
              "1986  2008-08-12  11781.700195  11782.349609  11601.519531  11642.469727   \n",
              "1987  2008-08-11  11729.669922  11867.110352  11675.530273  11782.349609   \n",
              "1988  2008-08-08  11432.089844  11759.959961  11388.040039  11734.320312   \n",
              "\n",
              "         Volume     Adj Close  \n",
              "0      82160000  17949.369141  \n",
              "1     133030000  17929.990234  \n",
              "2     106380000  17694.679688  \n",
              "3     112190000  17409.720703  \n",
              "4     138740000  17140.240234  \n",
              "...         ...           ...  \n",
              "1984  159790000  11615.929688  \n",
              "1985  182550000  11532.959961  \n",
              "1986  173590000  11642.469727  \n",
              "1987  183190000  11782.349609  \n",
              "1988  212830000  11734.320312  \n",
              "\n",
              "[1989 rows x 7 columns]>"
            ]
          },
          "metadata": {},
          "execution_count": 4
        }
      ]
    },
    {
      "cell_type": "code",
      "source": [
        "df.shape"
      ],
      "metadata": {
        "colab": {
          "base_uri": "https://localhost:8080/"
        },
        "id": "M-3rE4iQriXl",
        "outputId": "eeb2865a-63ba-41e8-c3c7-5369e5cd4678"
      },
      "execution_count": null,
      "outputs": [
        {
          "output_type": "execute_result",
          "data": {
            "text/plain": [
              "(1989, 7)"
            ]
          },
          "metadata": {},
          "execution_count": 5
        }
      ]
    },
    {
      "cell_type": "code",
      "source": [
        "df.isnull().sum()"
      ],
      "metadata": {
        "colab": {
          "base_uri": "https://localhost:8080/"
        },
        "id": "tfqbXAfkrtP9",
        "outputId": "e36d6218-b7a6-490a-8981-b813ca3e4fd2"
      },
      "execution_count": null,
      "outputs": [
        {
          "output_type": "execute_result",
          "data": {
            "text/plain": [
              "Date         0\n",
              "Open         0\n",
              "High         0\n",
              "Low          0\n",
              "Close        0\n",
              "Volume       0\n",
              "Adj Close    0\n",
              "dtype: int64"
            ]
          },
          "metadata": {},
          "execution_count": 6
        }
      ]
    },
    {
      "cell_type": "code",
      "source": [
        "df.count()"
      ],
      "metadata": {
        "colab": {
          "base_uri": "https://localhost:8080/"
        },
        "id": "jfdxpNapr2GR",
        "outputId": "be13cc99-cc25-410d-d147-3ad5794e4be1"
      },
      "execution_count": null,
      "outputs": [
        {
          "output_type": "execute_result",
          "data": {
            "text/plain": [
              "Date         1989\n",
              "Open         1989\n",
              "High         1989\n",
              "Low          1989\n",
              "Close        1989\n",
              "Volume       1989\n",
              "Adj Close    1989\n",
              "dtype: int64"
            ]
          },
          "metadata": {},
          "execution_count": 7
        }
      ]
    },
    {
      "cell_type": "code",
      "source": [],
      "metadata": {
        "id": "xR5GKUih3fgv"
      },
      "execution_count": null,
      "outputs": []
    },
    {
      "cell_type": "markdown",
      "source": [
        "# **PRE DATA PROCESSING**"
      ],
      "metadata": {
        "id": "xvF2Q5v31lHr"
      }
    },
    {
      "cell_type": "code",
      "source": [
        "df2 = df.drop(['Date'],axis=1)\n",
        "df2"
      ],
      "metadata": {
        "colab": {
          "base_uri": "https://localhost:8080/",
          "height": 423
        },
        "id": "eGfF6Z7Mr-gs",
        "outputId": "9ba2b283-7a02-405c-b5fc-41652619c4a2"
      },
      "execution_count": null,
      "outputs": [
        {
          "output_type": "execute_result",
          "data": {
            "text/plain": [
              "              Open          High           Low         Close     Volume  \\\n",
              "0     17924.240234  18002.380859  17916.910156  17949.369141   82160000   \n",
              "1     17712.759766  17930.609375  17711.800781  17929.990234  133030000   \n",
              "2     17456.019531  17704.509766  17456.019531  17694.679688  106380000   \n",
              "3     17190.509766  17409.720703  17190.509766  17409.720703  112190000   \n",
              "4     17355.210938  17355.210938  17063.080078  17140.240234  138740000   \n",
              "...            ...           ...           ...           ...        ...   \n",
              "1984  11532.070312  11718.280273  11450.889648  11615.929688  159790000   \n",
              "1985  11632.809570  11633.780273  11453.339844  11532.959961  182550000   \n",
              "1986  11781.700195  11782.349609  11601.519531  11642.469727  173590000   \n",
              "1987  11729.669922  11867.110352  11675.530273  11782.349609  183190000   \n",
              "1988  11432.089844  11759.959961  11388.040039  11734.320312  212830000   \n",
              "\n",
              "         Adj Close  \n",
              "0     17949.369141  \n",
              "1     17929.990234  \n",
              "2     17694.679688  \n",
              "3     17409.720703  \n",
              "4     17140.240234  \n",
              "...            ...  \n",
              "1984  11615.929688  \n",
              "1985  11532.959961  \n",
              "1986  11642.469727  \n",
              "1987  11782.349609  \n",
              "1988  11734.320312  \n",
              "\n",
              "[1989 rows x 6 columns]"
            ],
            "text/html": [
              "\n",
              "  <div id=\"df-f106a701-d2d8-45c8-ad80-d9ce8477f91e\">\n",
              "    <div class=\"colab-df-container\">\n",
              "      <div>\n",
              "<style scoped>\n",
              "    .dataframe tbody tr th:only-of-type {\n",
              "        vertical-align: middle;\n",
              "    }\n",
              "\n",
              "    .dataframe tbody tr th {\n",
              "        vertical-align: top;\n",
              "    }\n",
              "\n",
              "    .dataframe thead th {\n",
              "        text-align: right;\n",
              "    }\n",
              "</style>\n",
              "<table border=\"1\" class=\"dataframe\">\n",
              "  <thead>\n",
              "    <tr style=\"text-align: right;\">\n",
              "      <th></th>\n",
              "      <th>Open</th>\n",
              "      <th>High</th>\n",
              "      <th>Low</th>\n",
              "      <th>Close</th>\n",
              "      <th>Volume</th>\n",
              "      <th>Adj Close</th>\n",
              "    </tr>\n",
              "  </thead>\n",
              "  <tbody>\n",
              "    <tr>\n",
              "      <th>0</th>\n",
              "      <td>17924.240234</td>\n",
              "      <td>18002.380859</td>\n",
              "      <td>17916.910156</td>\n",
              "      <td>17949.369141</td>\n",
              "      <td>82160000</td>\n",
              "      <td>17949.369141</td>\n",
              "    </tr>\n",
              "    <tr>\n",
              "      <th>1</th>\n",
              "      <td>17712.759766</td>\n",
              "      <td>17930.609375</td>\n",
              "      <td>17711.800781</td>\n",
              "      <td>17929.990234</td>\n",
              "      <td>133030000</td>\n",
              "      <td>17929.990234</td>\n",
              "    </tr>\n",
              "    <tr>\n",
              "      <th>2</th>\n",
              "      <td>17456.019531</td>\n",
              "      <td>17704.509766</td>\n",
              "      <td>17456.019531</td>\n",
              "      <td>17694.679688</td>\n",
              "      <td>106380000</td>\n",
              "      <td>17694.679688</td>\n",
              "    </tr>\n",
              "    <tr>\n",
              "      <th>3</th>\n",
              "      <td>17190.509766</td>\n",
              "      <td>17409.720703</td>\n",
              "      <td>17190.509766</td>\n",
              "      <td>17409.720703</td>\n",
              "      <td>112190000</td>\n",
              "      <td>17409.720703</td>\n",
              "    </tr>\n",
              "    <tr>\n",
              "      <th>4</th>\n",
              "      <td>17355.210938</td>\n",
              "      <td>17355.210938</td>\n",
              "      <td>17063.080078</td>\n",
              "      <td>17140.240234</td>\n",
              "      <td>138740000</td>\n",
              "      <td>17140.240234</td>\n",
              "    </tr>\n",
              "    <tr>\n",
              "      <th>...</th>\n",
              "      <td>...</td>\n",
              "      <td>...</td>\n",
              "      <td>...</td>\n",
              "      <td>...</td>\n",
              "      <td>...</td>\n",
              "      <td>...</td>\n",
              "    </tr>\n",
              "    <tr>\n",
              "      <th>1984</th>\n",
              "      <td>11532.070312</td>\n",
              "      <td>11718.280273</td>\n",
              "      <td>11450.889648</td>\n",
              "      <td>11615.929688</td>\n",
              "      <td>159790000</td>\n",
              "      <td>11615.929688</td>\n",
              "    </tr>\n",
              "    <tr>\n",
              "      <th>1985</th>\n",
              "      <td>11632.809570</td>\n",
              "      <td>11633.780273</td>\n",
              "      <td>11453.339844</td>\n",
              "      <td>11532.959961</td>\n",
              "      <td>182550000</td>\n",
              "      <td>11532.959961</td>\n",
              "    </tr>\n",
              "    <tr>\n",
              "      <th>1986</th>\n",
              "      <td>11781.700195</td>\n",
              "      <td>11782.349609</td>\n",
              "      <td>11601.519531</td>\n",
              "      <td>11642.469727</td>\n",
              "      <td>173590000</td>\n",
              "      <td>11642.469727</td>\n",
              "    </tr>\n",
              "    <tr>\n",
              "      <th>1987</th>\n",
              "      <td>11729.669922</td>\n",
              "      <td>11867.110352</td>\n",
              "      <td>11675.530273</td>\n",
              "      <td>11782.349609</td>\n",
              "      <td>183190000</td>\n",
              "      <td>11782.349609</td>\n",
              "    </tr>\n",
              "    <tr>\n",
              "      <th>1988</th>\n",
              "      <td>11432.089844</td>\n",
              "      <td>11759.959961</td>\n",
              "      <td>11388.040039</td>\n",
              "      <td>11734.320312</td>\n",
              "      <td>212830000</td>\n",
              "      <td>11734.320312</td>\n",
              "    </tr>\n",
              "  </tbody>\n",
              "</table>\n",
              "<p>1989 rows × 6 columns</p>\n",
              "</div>\n",
              "      <button class=\"colab-df-convert\" onclick=\"convertToInteractive('df-f106a701-d2d8-45c8-ad80-d9ce8477f91e')\"\n",
              "              title=\"Convert this dataframe to an interactive table.\"\n",
              "              style=\"display:none;\">\n",
              "        \n",
              "  <svg xmlns=\"http://www.w3.org/2000/svg\" height=\"24px\"viewBox=\"0 0 24 24\"\n",
              "       width=\"24px\">\n",
              "    <path d=\"M0 0h24v24H0V0z\" fill=\"none\"/>\n",
              "    <path d=\"M18.56 5.44l.94 2.06.94-2.06 2.06-.94-2.06-.94-.94-2.06-.94 2.06-2.06.94zm-11 1L8.5 8.5l.94-2.06 2.06-.94-2.06-.94L8.5 2.5l-.94 2.06-2.06.94zm10 10l.94 2.06.94-2.06 2.06-.94-2.06-.94-.94-2.06-.94 2.06-2.06.94z\"/><path d=\"M17.41 7.96l-1.37-1.37c-.4-.4-.92-.59-1.43-.59-.52 0-1.04.2-1.43.59L10.3 9.45l-7.72 7.72c-.78.78-.78 2.05 0 2.83L4 21.41c.39.39.9.59 1.41.59.51 0 1.02-.2 1.41-.59l7.78-7.78 2.81-2.81c.8-.78.8-2.07 0-2.86zM5.41 20L4 18.59l7.72-7.72 1.47 1.35L5.41 20z\"/>\n",
              "  </svg>\n",
              "      </button>\n",
              "      \n",
              "  <style>\n",
              "    .colab-df-container {\n",
              "      display:flex;\n",
              "      flex-wrap:wrap;\n",
              "      gap: 12px;\n",
              "    }\n",
              "\n",
              "    .colab-df-convert {\n",
              "      background-color: #E8F0FE;\n",
              "      border: none;\n",
              "      border-radius: 50%;\n",
              "      cursor: pointer;\n",
              "      display: none;\n",
              "      fill: #1967D2;\n",
              "      height: 32px;\n",
              "      padding: 0 0 0 0;\n",
              "      width: 32px;\n",
              "    }\n",
              "\n",
              "    .colab-df-convert:hover {\n",
              "      background-color: #E2EBFA;\n",
              "      box-shadow: 0px 1px 2px rgba(60, 64, 67, 0.3), 0px 1px 3px 1px rgba(60, 64, 67, 0.15);\n",
              "      fill: #174EA6;\n",
              "    }\n",
              "\n",
              "    [theme=dark] .colab-df-convert {\n",
              "      background-color: #3B4455;\n",
              "      fill: #D2E3FC;\n",
              "    }\n",
              "\n",
              "    [theme=dark] .colab-df-convert:hover {\n",
              "      background-color: #434B5C;\n",
              "      box-shadow: 0px 1px 3px 1px rgba(0, 0, 0, 0.15);\n",
              "      filter: drop-shadow(0px 1px 2px rgba(0, 0, 0, 0.3));\n",
              "      fill: #FFFFFF;\n",
              "    }\n",
              "  </style>\n",
              "\n",
              "      <script>\n",
              "        const buttonEl =\n",
              "          document.querySelector('#df-f106a701-d2d8-45c8-ad80-d9ce8477f91e button.colab-df-convert');\n",
              "        buttonEl.style.display =\n",
              "          google.colab.kernel.accessAllowed ? 'block' : 'none';\n",
              "\n",
              "        async function convertToInteractive(key) {\n",
              "          const element = document.querySelector('#df-f106a701-d2d8-45c8-ad80-d9ce8477f91e');\n",
              "          const dataTable =\n",
              "            await google.colab.kernel.invokeFunction('convertToInteractive',\n",
              "                                                     [key], {});\n",
              "          if (!dataTable) return;\n",
              "\n",
              "          const docLinkHtml = 'Like what you see? Visit the ' +\n",
              "            '<a target=\"_blank\" href=https://colab.research.google.com/notebooks/data_table.ipynb>data table notebook</a>'\n",
              "            + ' to learn more about interactive tables.';\n",
              "          element.innerHTML = '';\n",
              "          dataTable['output_type'] = 'display_data';\n",
              "          await google.colab.output.renderOutput(dataTable, element);\n",
              "          const docLink = document.createElement('div');\n",
              "          docLink.innerHTML = docLinkHtml;\n",
              "          element.appendChild(docLink);\n",
              "        }\n",
              "      </script>\n",
              "    </div>\n",
              "  </div>\n",
              "  "
            ]
          },
          "metadata": {},
          "execution_count": 8
        }
      ]
    },
    {
      "cell_type": "code",
      "source": [
        "date = df['Date']\n",
        "date"
      ],
      "metadata": {
        "colab": {
          "base_uri": "https://localhost:8080/"
        },
        "id": "L6ovJqXItO6q",
        "outputId": "eb2d6fc5-5347-4b3a-933c-f2c8eee5b309"
      },
      "execution_count": null,
      "outputs": [
        {
          "output_type": "execute_result",
          "data": {
            "text/plain": [
              "0       2016-07-01\n",
              "1       2016-06-30\n",
              "2       2016-06-29\n",
              "3       2016-06-28\n",
              "4       2016-06-27\n",
              "           ...    \n",
              "1984    2008-08-14\n",
              "1985    2008-08-13\n",
              "1986    2008-08-12\n",
              "1987    2008-08-11\n",
              "1988    2008-08-08\n",
              "Name: Date, Length: 1989, dtype: object"
            ]
          },
          "metadata": {},
          "execution_count": 9
        }
      ]
    },
    {
      "cell_type": "code",
      "source": [
        "from sklearn import preprocessing"
      ],
      "metadata": {
        "id": "rbXv4lZMtoOB"
      },
      "execution_count": null,
      "outputs": []
    },
    {
      "cell_type": "markdown",
      "source": [
        "# **NORMALISATION**"
      ],
      "metadata": {
        "id": "jttW91gs1q2s"
      }
    },
    {
      "cell_type": "code",
      "source": [
        "d = preprocessing.normalize(df2,axis = 0)\n",
        "normalized_df = pd.DataFrame(d)\n",
        "normalized_df.head()"
      ],
      "metadata": {
        "colab": {
          "base_uri": "https://localhost:8080/",
          "height": 206
        },
        "id": "fOi5vbhVtx3w",
        "outputId": "ea888529-3940-4772-ba96-e40938d4eb50"
      },
      "execution_count": null,
      "outputs": [
        {
          "output_type": "execute_result",
          "data": {
            "text/plain": [
              "          0         1         2         3         4         5\n",
              "0  0.029079  0.029041  0.029241  0.029111  0.009802  0.029111\n",
              "1  0.028736  0.028925  0.028907  0.029080  0.015871  0.029080\n",
              "2  0.028319  0.028560  0.028489  0.028698  0.012691  0.028698\n",
              "3  0.027889  0.028085  0.028056  0.028236  0.013384  0.028236\n",
              "4  0.028156  0.027997  0.027848  0.027799  0.016552  0.027799"
            ],
            "text/html": [
              "\n",
              "  <div id=\"df-3b21093d-103f-4bd8-b141-2d3e6880a504\">\n",
              "    <div class=\"colab-df-container\">\n",
              "      <div>\n",
              "<style scoped>\n",
              "    .dataframe tbody tr th:only-of-type {\n",
              "        vertical-align: middle;\n",
              "    }\n",
              "\n",
              "    .dataframe tbody tr th {\n",
              "        vertical-align: top;\n",
              "    }\n",
              "\n",
              "    .dataframe thead th {\n",
              "        text-align: right;\n",
              "    }\n",
              "</style>\n",
              "<table border=\"1\" class=\"dataframe\">\n",
              "  <thead>\n",
              "    <tr style=\"text-align: right;\">\n",
              "      <th></th>\n",
              "      <th>0</th>\n",
              "      <th>1</th>\n",
              "      <th>2</th>\n",
              "      <th>3</th>\n",
              "      <th>4</th>\n",
              "      <th>5</th>\n",
              "    </tr>\n",
              "  </thead>\n",
              "  <tbody>\n",
              "    <tr>\n",
              "      <th>0</th>\n",
              "      <td>0.029079</td>\n",
              "      <td>0.029041</td>\n",
              "      <td>0.029241</td>\n",
              "      <td>0.029111</td>\n",
              "      <td>0.009802</td>\n",
              "      <td>0.029111</td>\n",
              "    </tr>\n",
              "    <tr>\n",
              "      <th>1</th>\n",
              "      <td>0.028736</td>\n",
              "      <td>0.028925</td>\n",
              "      <td>0.028907</td>\n",
              "      <td>0.029080</td>\n",
              "      <td>0.015871</td>\n",
              "      <td>0.029080</td>\n",
              "    </tr>\n",
              "    <tr>\n",
              "      <th>2</th>\n",
              "      <td>0.028319</td>\n",
              "      <td>0.028560</td>\n",
              "      <td>0.028489</td>\n",
              "      <td>0.028698</td>\n",
              "      <td>0.012691</td>\n",
              "      <td>0.028698</td>\n",
              "    </tr>\n",
              "    <tr>\n",
              "      <th>3</th>\n",
              "      <td>0.027889</td>\n",
              "      <td>0.028085</td>\n",
              "      <td>0.028056</td>\n",
              "      <td>0.028236</td>\n",
              "      <td>0.013384</td>\n",
              "      <td>0.028236</td>\n",
              "    </tr>\n",
              "    <tr>\n",
              "      <th>4</th>\n",
              "      <td>0.028156</td>\n",
              "      <td>0.027997</td>\n",
              "      <td>0.027848</td>\n",
              "      <td>0.027799</td>\n",
              "      <td>0.016552</td>\n",
              "      <td>0.027799</td>\n",
              "    </tr>\n",
              "  </tbody>\n",
              "</table>\n",
              "</div>\n",
              "      <button class=\"colab-df-convert\" onclick=\"convertToInteractive('df-3b21093d-103f-4bd8-b141-2d3e6880a504')\"\n",
              "              title=\"Convert this dataframe to an interactive table.\"\n",
              "              style=\"display:none;\">\n",
              "        \n",
              "  <svg xmlns=\"http://www.w3.org/2000/svg\" height=\"24px\"viewBox=\"0 0 24 24\"\n",
              "       width=\"24px\">\n",
              "    <path d=\"M0 0h24v24H0V0z\" fill=\"none\"/>\n",
              "    <path d=\"M18.56 5.44l.94 2.06.94-2.06 2.06-.94-2.06-.94-.94-2.06-.94 2.06-2.06.94zm-11 1L8.5 8.5l.94-2.06 2.06-.94-2.06-.94L8.5 2.5l-.94 2.06-2.06.94zm10 10l.94 2.06.94-2.06 2.06-.94-2.06-.94-.94-2.06-.94 2.06-2.06.94z\"/><path d=\"M17.41 7.96l-1.37-1.37c-.4-.4-.92-.59-1.43-.59-.52 0-1.04.2-1.43.59L10.3 9.45l-7.72 7.72c-.78.78-.78 2.05 0 2.83L4 21.41c.39.39.9.59 1.41.59.51 0 1.02-.2 1.41-.59l7.78-7.78 2.81-2.81c.8-.78.8-2.07 0-2.86zM5.41 20L4 18.59l7.72-7.72 1.47 1.35L5.41 20z\"/>\n",
              "  </svg>\n",
              "      </button>\n",
              "      \n",
              "  <style>\n",
              "    .colab-df-container {\n",
              "      display:flex;\n",
              "      flex-wrap:wrap;\n",
              "      gap: 12px;\n",
              "    }\n",
              "\n",
              "    .colab-df-convert {\n",
              "      background-color: #E8F0FE;\n",
              "      border: none;\n",
              "      border-radius: 50%;\n",
              "      cursor: pointer;\n",
              "      display: none;\n",
              "      fill: #1967D2;\n",
              "      height: 32px;\n",
              "      padding: 0 0 0 0;\n",
              "      width: 32px;\n",
              "    }\n",
              "\n",
              "    .colab-df-convert:hover {\n",
              "      background-color: #E2EBFA;\n",
              "      box-shadow: 0px 1px 2px rgba(60, 64, 67, 0.3), 0px 1px 3px 1px rgba(60, 64, 67, 0.15);\n",
              "      fill: #174EA6;\n",
              "    }\n",
              "\n",
              "    [theme=dark] .colab-df-convert {\n",
              "      background-color: #3B4455;\n",
              "      fill: #D2E3FC;\n",
              "    }\n",
              "\n",
              "    [theme=dark] .colab-df-convert:hover {\n",
              "      background-color: #434B5C;\n",
              "      box-shadow: 0px 1px 3px 1px rgba(0, 0, 0, 0.15);\n",
              "      filter: drop-shadow(0px 1px 2px rgba(0, 0, 0, 0.3));\n",
              "      fill: #FFFFFF;\n",
              "    }\n",
              "  </style>\n",
              "\n",
              "      <script>\n",
              "        const buttonEl =\n",
              "          document.querySelector('#df-3b21093d-103f-4bd8-b141-2d3e6880a504 button.colab-df-convert');\n",
              "        buttonEl.style.display =\n",
              "          google.colab.kernel.accessAllowed ? 'block' : 'none';\n",
              "\n",
              "        async function convertToInteractive(key) {\n",
              "          const element = document.querySelector('#df-3b21093d-103f-4bd8-b141-2d3e6880a504');\n",
              "          const dataTable =\n",
              "            await google.colab.kernel.invokeFunction('convertToInteractive',\n",
              "                                                     [key], {});\n",
              "          if (!dataTable) return;\n",
              "\n",
              "          const docLinkHtml = 'Like what you see? Visit the ' +\n",
              "            '<a target=\"_blank\" href=https://colab.research.google.com/notebooks/data_table.ipynb>data table notebook</a>'\n",
              "            + ' to learn more about interactive tables.';\n",
              "          element.innerHTML = '';\n",
              "          dataTable['output_type'] = 'display_data';\n",
              "          await google.colab.output.renderOutput(dataTable, element);\n",
              "          const docLink = document.createElement('div');\n",
              "          docLink.innerHTML = docLinkHtml;\n",
              "          element.appendChild(docLink);\n",
              "        }\n",
              "      </script>\n",
              "    </div>\n",
              "  </div>\n",
              "  "
            ]
          },
          "metadata": {},
          "execution_count": 13
        }
      ]
    },
    {
      "cell_type": "code",
      "source": [
        "normalized_df.shape"
      ],
      "metadata": {
        "colab": {
          "base_uri": "https://localhost:8080/"
        },
        "id": "5-_KZEqFt07k",
        "outputId": "462c79e8-50d0-4575-e849-18de0a597457"
      },
      "execution_count": null,
      "outputs": [
        {
          "output_type": "execute_result",
          "data": {
            "text/plain": [
              "(1989, 6)"
            ]
          },
          "metadata": {},
          "execution_count": 14
        }
      ]
    },
    {
      "cell_type": "code",
      "source": [
        "normalized_df"
      ],
      "metadata": {
        "colab": {
          "base_uri": "https://localhost:8080/",
          "height": 423
        },
        "id": "OXQY9PGbuGqo",
        "outputId": "977844b5-ba9e-46f0-d8d4-85942f48f093"
      },
      "execution_count": null,
      "outputs": [
        {
          "output_type": "execute_result",
          "data": {
            "text/plain": [
              "             0         1         2         3         4         5\n",
              "0     0.029079  0.029041  0.029241  0.029111  0.009802  0.029111\n",
              "1     0.028736  0.028925  0.028907  0.029080  0.015871  0.029080\n",
              "2     0.028319  0.028560  0.028489  0.028698  0.012691  0.028698\n",
              "3     0.027889  0.028085  0.028056  0.028236  0.013384  0.028236\n",
              "4     0.028156  0.027997  0.027848  0.027799  0.016552  0.027799\n",
              "...        ...       ...       ...       ...       ...       ...\n",
              "1984  0.018709  0.018904  0.018688  0.018839  0.019063  0.018839\n",
              "1985  0.018872  0.018767  0.018692  0.018705  0.021778  0.018705\n",
              "1986  0.019114  0.019007  0.018934  0.018883  0.020709  0.018883\n",
              "1987  0.019029  0.019144  0.019055  0.019109  0.021855  0.019109\n",
              "1988  0.018547  0.018971  0.018586  0.019031  0.025391  0.019031\n",
              "\n",
              "[1989 rows x 6 columns]"
            ],
            "text/html": [
              "\n",
              "  <div id=\"df-70c5a952-c4a0-4b2b-a6b4-194cd1a74191\">\n",
              "    <div class=\"colab-df-container\">\n",
              "      <div>\n",
              "<style scoped>\n",
              "    .dataframe tbody tr th:only-of-type {\n",
              "        vertical-align: middle;\n",
              "    }\n",
              "\n",
              "    .dataframe tbody tr th {\n",
              "        vertical-align: top;\n",
              "    }\n",
              "\n",
              "    .dataframe thead th {\n",
              "        text-align: right;\n",
              "    }\n",
              "</style>\n",
              "<table border=\"1\" class=\"dataframe\">\n",
              "  <thead>\n",
              "    <tr style=\"text-align: right;\">\n",
              "      <th></th>\n",
              "      <th>0</th>\n",
              "      <th>1</th>\n",
              "      <th>2</th>\n",
              "      <th>3</th>\n",
              "      <th>4</th>\n",
              "      <th>5</th>\n",
              "    </tr>\n",
              "  </thead>\n",
              "  <tbody>\n",
              "    <tr>\n",
              "      <th>0</th>\n",
              "      <td>0.029079</td>\n",
              "      <td>0.029041</td>\n",
              "      <td>0.029241</td>\n",
              "      <td>0.029111</td>\n",
              "      <td>0.009802</td>\n",
              "      <td>0.029111</td>\n",
              "    </tr>\n",
              "    <tr>\n",
              "      <th>1</th>\n",
              "      <td>0.028736</td>\n",
              "      <td>0.028925</td>\n",
              "      <td>0.028907</td>\n",
              "      <td>0.029080</td>\n",
              "      <td>0.015871</td>\n",
              "      <td>0.029080</td>\n",
              "    </tr>\n",
              "    <tr>\n",
              "      <th>2</th>\n",
              "      <td>0.028319</td>\n",
              "      <td>0.028560</td>\n",
              "      <td>0.028489</td>\n",
              "      <td>0.028698</td>\n",
              "      <td>0.012691</td>\n",
              "      <td>0.028698</td>\n",
              "    </tr>\n",
              "    <tr>\n",
              "      <th>3</th>\n",
              "      <td>0.027889</td>\n",
              "      <td>0.028085</td>\n",
              "      <td>0.028056</td>\n",
              "      <td>0.028236</td>\n",
              "      <td>0.013384</td>\n",
              "      <td>0.028236</td>\n",
              "    </tr>\n",
              "    <tr>\n",
              "      <th>4</th>\n",
              "      <td>0.028156</td>\n",
              "      <td>0.027997</td>\n",
              "      <td>0.027848</td>\n",
              "      <td>0.027799</td>\n",
              "      <td>0.016552</td>\n",
              "      <td>0.027799</td>\n",
              "    </tr>\n",
              "    <tr>\n",
              "      <th>...</th>\n",
              "      <td>...</td>\n",
              "      <td>...</td>\n",
              "      <td>...</td>\n",
              "      <td>...</td>\n",
              "      <td>...</td>\n",
              "      <td>...</td>\n",
              "    </tr>\n",
              "    <tr>\n",
              "      <th>1984</th>\n",
              "      <td>0.018709</td>\n",
              "      <td>0.018904</td>\n",
              "      <td>0.018688</td>\n",
              "      <td>0.018839</td>\n",
              "      <td>0.019063</td>\n",
              "      <td>0.018839</td>\n",
              "    </tr>\n",
              "    <tr>\n",
              "      <th>1985</th>\n",
              "      <td>0.018872</td>\n",
              "      <td>0.018767</td>\n",
              "      <td>0.018692</td>\n",
              "      <td>0.018705</td>\n",
              "      <td>0.021778</td>\n",
              "      <td>0.018705</td>\n",
              "    </tr>\n",
              "    <tr>\n",
              "      <th>1986</th>\n",
              "      <td>0.019114</td>\n",
              "      <td>0.019007</td>\n",
              "      <td>0.018934</td>\n",
              "      <td>0.018883</td>\n",
              "      <td>0.020709</td>\n",
              "      <td>0.018883</td>\n",
              "    </tr>\n",
              "    <tr>\n",
              "      <th>1987</th>\n",
              "      <td>0.019029</td>\n",
              "      <td>0.019144</td>\n",
              "      <td>0.019055</td>\n",
              "      <td>0.019109</td>\n",
              "      <td>0.021855</td>\n",
              "      <td>0.019109</td>\n",
              "    </tr>\n",
              "    <tr>\n",
              "      <th>1988</th>\n",
              "      <td>0.018547</td>\n",
              "      <td>0.018971</td>\n",
              "      <td>0.018586</td>\n",
              "      <td>0.019031</td>\n",
              "      <td>0.025391</td>\n",
              "      <td>0.019031</td>\n",
              "    </tr>\n",
              "  </tbody>\n",
              "</table>\n",
              "<p>1989 rows × 6 columns</p>\n",
              "</div>\n",
              "      <button class=\"colab-df-convert\" onclick=\"convertToInteractive('df-70c5a952-c4a0-4b2b-a6b4-194cd1a74191')\"\n",
              "              title=\"Convert this dataframe to an interactive table.\"\n",
              "              style=\"display:none;\">\n",
              "        \n",
              "  <svg xmlns=\"http://www.w3.org/2000/svg\" height=\"24px\"viewBox=\"0 0 24 24\"\n",
              "       width=\"24px\">\n",
              "    <path d=\"M0 0h24v24H0V0z\" fill=\"none\"/>\n",
              "    <path d=\"M18.56 5.44l.94 2.06.94-2.06 2.06-.94-2.06-.94-.94-2.06-.94 2.06-2.06.94zm-11 1L8.5 8.5l.94-2.06 2.06-.94-2.06-.94L8.5 2.5l-.94 2.06-2.06.94zm10 10l.94 2.06.94-2.06 2.06-.94-2.06-.94-.94-2.06-.94 2.06-2.06.94z\"/><path d=\"M17.41 7.96l-1.37-1.37c-.4-.4-.92-.59-1.43-.59-.52 0-1.04.2-1.43.59L10.3 9.45l-7.72 7.72c-.78.78-.78 2.05 0 2.83L4 21.41c.39.39.9.59 1.41.59.51 0 1.02-.2 1.41-.59l7.78-7.78 2.81-2.81c.8-.78.8-2.07 0-2.86zM5.41 20L4 18.59l7.72-7.72 1.47 1.35L5.41 20z\"/>\n",
              "  </svg>\n",
              "      </button>\n",
              "      \n",
              "  <style>\n",
              "    .colab-df-container {\n",
              "      display:flex;\n",
              "      flex-wrap:wrap;\n",
              "      gap: 12px;\n",
              "    }\n",
              "\n",
              "    .colab-df-convert {\n",
              "      background-color: #E8F0FE;\n",
              "      border: none;\n",
              "      border-radius: 50%;\n",
              "      cursor: pointer;\n",
              "      display: none;\n",
              "      fill: #1967D2;\n",
              "      height: 32px;\n",
              "      padding: 0 0 0 0;\n",
              "      width: 32px;\n",
              "    }\n",
              "\n",
              "    .colab-df-convert:hover {\n",
              "      background-color: #E2EBFA;\n",
              "      box-shadow: 0px 1px 2px rgba(60, 64, 67, 0.3), 0px 1px 3px 1px rgba(60, 64, 67, 0.15);\n",
              "      fill: #174EA6;\n",
              "    }\n",
              "\n",
              "    [theme=dark] .colab-df-convert {\n",
              "      background-color: #3B4455;\n",
              "      fill: #D2E3FC;\n",
              "    }\n",
              "\n",
              "    [theme=dark] .colab-df-convert:hover {\n",
              "      background-color: #434B5C;\n",
              "      box-shadow: 0px 1px 3px 1px rgba(0, 0, 0, 0.15);\n",
              "      filter: drop-shadow(0px 1px 2px rgba(0, 0, 0, 0.3));\n",
              "      fill: #FFFFFF;\n",
              "    }\n",
              "  </style>\n",
              "\n",
              "      <script>\n",
              "        const buttonEl =\n",
              "          document.querySelector('#df-70c5a952-c4a0-4b2b-a6b4-194cd1a74191 button.colab-df-convert');\n",
              "        buttonEl.style.display =\n",
              "          google.colab.kernel.accessAllowed ? 'block' : 'none';\n",
              "\n",
              "        async function convertToInteractive(key) {\n",
              "          const element = document.querySelector('#df-70c5a952-c4a0-4b2b-a6b4-194cd1a74191');\n",
              "          const dataTable =\n",
              "            await google.colab.kernel.invokeFunction('convertToInteractive',\n",
              "                                                     [key], {});\n",
              "          if (!dataTable) return;\n",
              "\n",
              "          const docLinkHtml = 'Like what you see? Visit the ' +\n",
              "            '<a target=\"_blank\" href=https://colab.research.google.com/notebooks/data_table.ipynb>data table notebook</a>'\n",
              "            + ' to learn more about interactive tables.';\n",
              "          element.innerHTML = '';\n",
              "          dataTable['output_type'] = 'display_data';\n",
              "          await google.colab.output.renderOutput(dataTable, element);\n",
              "          const docLink = document.createElement('div');\n",
              "          docLink.innerHTML = docLinkHtml;\n",
              "          element.appendChild(docLink);\n",
              "        }\n",
              "      </script>\n",
              "    </div>\n",
              "  </div>\n",
              "  "
            ]
          },
          "metadata": {},
          "execution_count": 15
        }
      ]
    },
    {
      "cell_type": "code",
      "source": [
        "normalized_df.columns = ['Open','High','Low','Close','Volume','Adj Close']\n",
        "normalized_df.head"
      ],
      "metadata": {
        "colab": {
          "base_uri": "https://localhost:8080/"
        },
        "id": "i_0U2fzVuImh",
        "outputId": "e60ad225-7182-40c5-f483-6e733c0a4333"
      },
      "execution_count": null,
      "outputs": [
        {
          "output_type": "execute_result",
          "data": {
            "text/plain": [
              "<bound method NDFrame.head of           Open      High       Low     Close    Volume  Adj Close\n",
              "0     0.029079  0.029041  0.029241  0.029111  0.009802   0.029111\n",
              "1     0.028736  0.028925  0.028907  0.029080  0.015871   0.029080\n",
              "2     0.028319  0.028560  0.028489  0.028698  0.012691   0.028698\n",
              "3     0.027889  0.028085  0.028056  0.028236  0.013384   0.028236\n",
              "4     0.028156  0.027997  0.027848  0.027799  0.016552   0.027799\n",
              "...        ...       ...       ...       ...       ...        ...\n",
              "1984  0.018709  0.018904  0.018688  0.018839  0.019063   0.018839\n",
              "1985  0.018872  0.018767  0.018692  0.018705  0.021778   0.018705\n",
              "1986  0.019114  0.019007  0.018934  0.018883  0.020709   0.018883\n",
              "1987  0.019029  0.019144  0.019055  0.019109  0.021855   0.019109\n",
              "1988  0.018547  0.018971  0.018586  0.019031  0.025391   0.019031\n",
              "\n",
              "[1989 rows x 6 columns]>"
            ]
          },
          "metadata": {},
          "execution_count": 16
        }
      ]
    },
    {
      "cell_type": "code",
      "source": [
        "normalized_df"
      ],
      "metadata": {
        "colab": {
          "base_uri": "https://localhost:8080/",
          "height": 423
        },
        "id": "Z28oUimYu-iU",
        "outputId": "d3281a51-dd82-4c5f-daa0-cc81b026668f"
      },
      "execution_count": null,
      "outputs": [
        {
          "output_type": "execute_result",
          "data": {
            "text/plain": [
              "            Date      Open      High       Low     Close    Volume  Adj Close\n",
              "0     2016-07-01  0.029079  0.029041  0.029241  0.029111  0.009802   0.029111\n",
              "1     2016-06-30  0.028736  0.028925  0.028907  0.029080  0.015871   0.029080\n",
              "2     2016-06-29  0.028319  0.028560  0.028489  0.028698  0.012691   0.028698\n",
              "3     2016-06-28  0.027889  0.028085  0.028056  0.028236  0.013384   0.028236\n",
              "4     2016-06-27  0.028156  0.027997  0.027848  0.027799  0.016552   0.027799\n",
              "...          ...       ...       ...       ...       ...       ...        ...\n",
              "1984  2008-08-14  0.018709  0.018904  0.018688  0.018839  0.019063   0.018839\n",
              "1985  2008-08-13  0.018872  0.018767  0.018692  0.018705  0.021778   0.018705\n",
              "1986  2008-08-12  0.019114  0.019007  0.018934  0.018883  0.020709   0.018883\n",
              "1987  2008-08-11  0.019029  0.019144  0.019055  0.019109  0.021855   0.019109\n",
              "1988  2008-08-08  0.018547  0.018971  0.018586  0.019031  0.025391   0.019031\n",
              "\n",
              "[1989 rows x 7 columns]"
            ],
            "text/html": [
              "\n",
              "  <div id=\"df-18fd31f8-1760-49a4-9063-3f1f5c45a4af\">\n",
              "    <div class=\"colab-df-container\">\n",
              "      <div>\n",
              "<style scoped>\n",
              "    .dataframe tbody tr th:only-of-type {\n",
              "        vertical-align: middle;\n",
              "    }\n",
              "\n",
              "    .dataframe tbody tr th {\n",
              "        vertical-align: top;\n",
              "    }\n",
              "\n",
              "    .dataframe thead th {\n",
              "        text-align: right;\n",
              "    }\n",
              "</style>\n",
              "<table border=\"1\" class=\"dataframe\">\n",
              "  <thead>\n",
              "    <tr style=\"text-align: right;\">\n",
              "      <th></th>\n",
              "      <th>Date</th>\n",
              "      <th>Open</th>\n",
              "      <th>High</th>\n",
              "      <th>Low</th>\n",
              "      <th>Close</th>\n",
              "      <th>Volume</th>\n",
              "      <th>Adj Close</th>\n",
              "    </tr>\n",
              "  </thead>\n",
              "  <tbody>\n",
              "    <tr>\n",
              "      <th>0</th>\n",
              "      <td>2016-07-01</td>\n",
              "      <td>0.029079</td>\n",
              "      <td>0.029041</td>\n",
              "      <td>0.029241</td>\n",
              "      <td>0.029111</td>\n",
              "      <td>0.009802</td>\n",
              "      <td>0.029111</td>\n",
              "    </tr>\n",
              "    <tr>\n",
              "      <th>1</th>\n",
              "      <td>2016-06-30</td>\n",
              "      <td>0.028736</td>\n",
              "      <td>0.028925</td>\n",
              "      <td>0.028907</td>\n",
              "      <td>0.029080</td>\n",
              "      <td>0.015871</td>\n",
              "      <td>0.029080</td>\n",
              "    </tr>\n",
              "    <tr>\n",
              "      <th>2</th>\n",
              "      <td>2016-06-29</td>\n",
              "      <td>0.028319</td>\n",
              "      <td>0.028560</td>\n",
              "      <td>0.028489</td>\n",
              "      <td>0.028698</td>\n",
              "      <td>0.012691</td>\n",
              "      <td>0.028698</td>\n",
              "    </tr>\n",
              "    <tr>\n",
              "      <th>3</th>\n",
              "      <td>2016-06-28</td>\n",
              "      <td>0.027889</td>\n",
              "      <td>0.028085</td>\n",
              "      <td>0.028056</td>\n",
              "      <td>0.028236</td>\n",
              "      <td>0.013384</td>\n",
              "      <td>0.028236</td>\n",
              "    </tr>\n",
              "    <tr>\n",
              "      <th>4</th>\n",
              "      <td>2016-06-27</td>\n",
              "      <td>0.028156</td>\n",
              "      <td>0.027997</td>\n",
              "      <td>0.027848</td>\n",
              "      <td>0.027799</td>\n",
              "      <td>0.016552</td>\n",
              "      <td>0.027799</td>\n",
              "    </tr>\n",
              "    <tr>\n",
              "      <th>...</th>\n",
              "      <td>...</td>\n",
              "      <td>...</td>\n",
              "      <td>...</td>\n",
              "      <td>...</td>\n",
              "      <td>...</td>\n",
              "      <td>...</td>\n",
              "      <td>...</td>\n",
              "    </tr>\n",
              "    <tr>\n",
              "      <th>1984</th>\n",
              "      <td>2008-08-14</td>\n",
              "      <td>0.018709</td>\n",
              "      <td>0.018904</td>\n",
              "      <td>0.018688</td>\n",
              "      <td>0.018839</td>\n",
              "      <td>0.019063</td>\n",
              "      <td>0.018839</td>\n",
              "    </tr>\n",
              "    <tr>\n",
              "      <th>1985</th>\n",
              "      <td>2008-08-13</td>\n",
              "      <td>0.018872</td>\n",
              "      <td>0.018767</td>\n",
              "      <td>0.018692</td>\n",
              "      <td>0.018705</td>\n",
              "      <td>0.021778</td>\n",
              "      <td>0.018705</td>\n",
              "    </tr>\n",
              "    <tr>\n",
              "      <th>1986</th>\n",
              "      <td>2008-08-12</td>\n",
              "      <td>0.019114</td>\n",
              "      <td>0.019007</td>\n",
              "      <td>0.018934</td>\n",
              "      <td>0.018883</td>\n",
              "      <td>0.020709</td>\n",
              "      <td>0.018883</td>\n",
              "    </tr>\n",
              "    <tr>\n",
              "      <th>1987</th>\n",
              "      <td>2008-08-11</td>\n",
              "      <td>0.019029</td>\n",
              "      <td>0.019144</td>\n",
              "      <td>0.019055</td>\n",
              "      <td>0.019109</td>\n",
              "      <td>0.021855</td>\n",
              "      <td>0.019109</td>\n",
              "    </tr>\n",
              "    <tr>\n",
              "      <th>1988</th>\n",
              "      <td>2008-08-08</td>\n",
              "      <td>0.018547</td>\n",
              "      <td>0.018971</td>\n",
              "      <td>0.018586</td>\n",
              "      <td>0.019031</td>\n",
              "      <td>0.025391</td>\n",
              "      <td>0.019031</td>\n",
              "    </tr>\n",
              "  </tbody>\n",
              "</table>\n",
              "<p>1989 rows × 7 columns</p>\n",
              "</div>\n",
              "      <button class=\"colab-df-convert\" onclick=\"convertToInteractive('df-18fd31f8-1760-49a4-9063-3f1f5c45a4af')\"\n",
              "              title=\"Convert this dataframe to an interactive table.\"\n",
              "              style=\"display:none;\">\n",
              "        \n",
              "  <svg xmlns=\"http://www.w3.org/2000/svg\" height=\"24px\"viewBox=\"0 0 24 24\"\n",
              "       width=\"24px\">\n",
              "    <path d=\"M0 0h24v24H0V0z\" fill=\"none\"/>\n",
              "    <path d=\"M18.56 5.44l.94 2.06.94-2.06 2.06-.94-2.06-.94-.94-2.06-.94 2.06-2.06.94zm-11 1L8.5 8.5l.94-2.06 2.06-.94-2.06-.94L8.5 2.5l-.94 2.06-2.06.94zm10 10l.94 2.06.94-2.06 2.06-.94-2.06-.94-.94-2.06-.94 2.06-2.06.94z\"/><path d=\"M17.41 7.96l-1.37-1.37c-.4-.4-.92-.59-1.43-.59-.52 0-1.04.2-1.43.59L10.3 9.45l-7.72 7.72c-.78.78-.78 2.05 0 2.83L4 21.41c.39.39.9.59 1.41.59.51 0 1.02-.2 1.41-.59l7.78-7.78 2.81-2.81c.8-.78.8-2.07 0-2.86zM5.41 20L4 18.59l7.72-7.72 1.47 1.35L5.41 20z\"/>\n",
              "  </svg>\n",
              "      </button>\n",
              "      \n",
              "  <style>\n",
              "    .colab-df-container {\n",
              "      display:flex;\n",
              "      flex-wrap:wrap;\n",
              "      gap: 12px;\n",
              "    }\n",
              "\n",
              "    .colab-df-convert {\n",
              "      background-color: #E8F0FE;\n",
              "      border: none;\n",
              "      border-radius: 50%;\n",
              "      cursor: pointer;\n",
              "      display: none;\n",
              "      fill: #1967D2;\n",
              "      height: 32px;\n",
              "      padding: 0 0 0 0;\n",
              "      width: 32px;\n",
              "    }\n",
              "\n",
              "    .colab-df-convert:hover {\n",
              "      background-color: #E2EBFA;\n",
              "      box-shadow: 0px 1px 2px rgba(60, 64, 67, 0.3), 0px 1px 3px 1px rgba(60, 64, 67, 0.15);\n",
              "      fill: #174EA6;\n",
              "    }\n",
              "\n",
              "    [theme=dark] .colab-df-convert {\n",
              "      background-color: #3B4455;\n",
              "      fill: #D2E3FC;\n",
              "    }\n",
              "\n",
              "    [theme=dark] .colab-df-convert:hover {\n",
              "      background-color: #434B5C;\n",
              "      box-shadow: 0px 1px 3px 1px rgba(0, 0, 0, 0.15);\n",
              "      filter: drop-shadow(0px 1px 2px rgba(0, 0, 0, 0.3));\n",
              "      fill: #FFFFFF;\n",
              "    }\n",
              "  </style>\n",
              "\n",
              "      <script>\n",
              "        const buttonEl =\n",
              "          document.querySelector('#df-18fd31f8-1760-49a4-9063-3f1f5c45a4af button.colab-df-convert');\n",
              "        buttonEl.style.display =\n",
              "          google.colab.kernel.accessAllowed ? 'block' : 'none';\n",
              "\n",
              "        async function convertToInteractive(key) {\n",
              "          const element = document.querySelector('#df-18fd31f8-1760-49a4-9063-3f1f5c45a4af');\n",
              "          const dataTable =\n",
              "            await google.colab.kernel.invokeFunction('convertToInteractive',\n",
              "                                                     [key], {});\n",
              "          if (!dataTable) return;\n",
              "\n",
              "          const docLinkHtml = 'Like what you see? Visit the ' +\n",
              "            '<a target=\"_blank\" href=https://colab.research.google.com/notebooks/data_table.ipynb>data table notebook</a>'\n",
              "            + ' to learn more about interactive tables.';\n",
              "          element.innerHTML = '';\n",
              "          dataTable['output_type'] = 'display_data';\n",
              "          await google.colab.output.renderOutput(dataTable, element);\n",
              "          const docLink = document.createElement('div');\n",
              "          docLink.innerHTML = docLinkHtml;\n",
              "          element.appendChild(docLink);\n",
              "        }\n",
              "      </script>\n",
              "    </div>\n",
              "  </div>\n",
              "  "
            ]
          },
          "metadata": {},
          "execution_count": 25
        }
      ]
    },
    {
      "cell_type": "code",
      "source": [
        "normalized_df.insert(0, 'Date', date)\n",
        "normalized_df.head"
      ],
      "metadata": {
        "colab": {
          "base_uri": "https://localhost:8080/"
        },
        "id": "aoWqkiYzvLRA",
        "outputId": "c16b3668-eab2-479d-d60f-0ae3f05e46ab"
      },
      "execution_count": null,
      "outputs": [
        {
          "output_type": "execute_result",
          "data": {
            "text/plain": [
              "<bound method NDFrame.head of             Date      Open      High       Low     Close    Volume  Adj Close\n",
              "0     2016-07-01  0.029079  0.029041  0.029241  0.029111  0.009802   0.029111\n",
              "1     2016-06-30  0.028736  0.028925  0.028907  0.029080  0.015871   0.029080\n",
              "2     2016-06-29  0.028319  0.028560  0.028489  0.028698  0.012691   0.028698\n",
              "3     2016-06-28  0.027889  0.028085  0.028056  0.028236  0.013384   0.028236\n",
              "4     2016-06-27  0.028156  0.027997  0.027848  0.027799  0.016552   0.027799\n",
              "...          ...       ...       ...       ...       ...       ...        ...\n",
              "1984  2008-08-14  0.018709  0.018904  0.018688  0.018839  0.019063   0.018839\n",
              "1985  2008-08-13  0.018872  0.018767  0.018692  0.018705  0.021778   0.018705\n",
              "1986  2008-08-12  0.019114  0.019007  0.018934  0.018883  0.020709   0.018883\n",
              "1987  2008-08-11  0.019029  0.019144  0.019055  0.019109  0.021855   0.019109\n",
              "1988  2008-08-08  0.018547  0.018971  0.018586  0.019031  0.025391   0.019031\n",
              "\n",
              "[1989 rows x 7 columns]>"
            ]
          },
          "metadata": {},
          "execution_count": 18
        }
      ]
    },
    {
      "cell_type": "code",
      "source": [
        "normalized_df = normalized_df.drop(['Date'],axis=1)\n",
        "normalized_df"
      ],
      "metadata": {
        "colab": {
          "base_uri": "https://localhost:8080/",
          "height": 423
        },
        "id": "MqhN35WGvcXT",
        "outputId": "5c81a52e-809c-4cb3-c468-302a8aaf74db"
      },
      "execution_count": null,
      "outputs": [
        {
          "output_type": "execute_result",
          "data": {
            "text/plain": [
              "          Open      High       Low     Close    Volume  Adj Close\n",
              "0     0.029079  0.029041  0.029241  0.029111  0.009802   0.029111\n",
              "1     0.028736  0.028925  0.028907  0.029080  0.015871   0.029080\n",
              "2     0.028319  0.028560  0.028489  0.028698  0.012691   0.028698\n",
              "3     0.027889  0.028085  0.028056  0.028236  0.013384   0.028236\n",
              "4     0.028156  0.027997  0.027848  0.027799  0.016552   0.027799\n",
              "...        ...       ...       ...       ...       ...        ...\n",
              "1984  0.018709  0.018904  0.018688  0.018839  0.019063   0.018839\n",
              "1985  0.018872  0.018767  0.018692  0.018705  0.021778   0.018705\n",
              "1986  0.019114  0.019007  0.018934  0.018883  0.020709   0.018883\n",
              "1987  0.019029  0.019144  0.019055  0.019109  0.021855   0.019109\n",
              "1988  0.018547  0.018971  0.018586  0.019031  0.025391   0.019031\n",
              "\n",
              "[1989 rows x 6 columns]"
            ],
            "text/html": [
              "\n",
              "  <div id=\"df-5240d1dc-bd25-4fba-9468-a114f2beb541\">\n",
              "    <div class=\"colab-df-container\">\n",
              "      <div>\n",
              "<style scoped>\n",
              "    .dataframe tbody tr th:only-of-type {\n",
              "        vertical-align: middle;\n",
              "    }\n",
              "\n",
              "    .dataframe tbody tr th {\n",
              "        vertical-align: top;\n",
              "    }\n",
              "\n",
              "    .dataframe thead th {\n",
              "        text-align: right;\n",
              "    }\n",
              "</style>\n",
              "<table border=\"1\" class=\"dataframe\">\n",
              "  <thead>\n",
              "    <tr style=\"text-align: right;\">\n",
              "      <th></th>\n",
              "      <th>Open</th>\n",
              "      <th>High</th>\n",
              "      <th>Low</th>\n",
              "      <th>Close</th>\n",
              "      <th>Volume</th>\n",
              "      <th>Adj Close</th>\n",
              "    </tr>\n",
              "  </thead>\n",
              "  <tbody>\n",
              "    <tr>\n",
              "      <th>0</th>\n",
              "      <td>0.029079</td>\n",
              "      <td>0.029041</td>\n",
              "      <td>0.029241</td>\n",
              "      <td>0.029111</td>\n",
              "      <td>0.009802</td>\n",
              "      <td>0.029111</td>\n",
              "    </tr>\n",
              "    <tr>\n",
              "      <th>1</th>\n",
              "      <td>0.028736</td>\n",
              "      <td>0.028925</td>\n",
              "      <td>0.028907</td>\n",
              "      <td>0.029080</td>\n",
              "      <td>0.015871</td>\n",
              "      <td>0.029080</td>\n",
              "    </tr>\n",
              "    <tr>\n",
              "      <th>2</th>\n",
              "      <td>0.028319</td>\n",
              "      <td>0.028560</td>\n",
              "      <td>0.028489</td>\n",
              "      <td>0.028698</td>\n",
              "      <td>0.012691</td>\n",
              "      <td>0.028698</td>\n",
              "    </tr>\n",
              "    <tr>\n",
              "      <th>3</th>\n",
              "      <td>0.027889</td>\n",
              "      <td>0.028085</td>\n",
              "      <td>0.028056</td>\n",
              "      <td>0.028236</td>\n",
              "      <td>0.013384</td>\n",
              "      <td>0.028236</td>\n",
              "    </tr>\n",
              "    <tr>\n",
              "      <th>4</th>\n",
              "      <td>0.028156</td>\n",
              "      <td>0.027997</td>\n",
              "      <td>0.027848</td>\n",
              "      <td>0.027799</td>\n",
              "      <td>0.016552</td>\n",
              "      <td>0.027799</td>\n",
              "    </tr>\n",
              "    <tr>\n",
              "      <th>...</th>\n",
              "      <td>...</td>\n",
              "      <td>...</td>\n",
              "      <td>...</td>\n",
              "      <td>...</td>\n",
              "      <td>...</td>\n",
              "      <td>...</td>\n",
              "    </tr>\n",
              "    <tr>\n",
              "      <th>1984</th>\n",
              "      <td>0.018709</td>\n",
              "      <td>0.018904</td>\n",
              "      <td>0.018688</td>\n",
              "      <td>0.018839</td>\n",
              "      <td>0.019063</td>\n",
              "      <td>0.018839</td>\n",
              "    </tr>\n",
              "    <tr>\n",
              "      <th>1985</th>\n",
              "      <td>0.018872</td>\n",
              "      <td>0.018767</td>\n",
              "      <td>0.018692</td>\n",
              "      <td>0.018705</td>\n",
              "      <td>0.021778</td>\n",
              "      <td>0.018705</td>\n",
              "    </tr>\n",
              "    <tr>\n",
              "      <th>1986</th>\n",
              "      <td>0.019114</td>\n",
              "      <td>0.019007</td>\n",
              "      <td>0.018934</td>\n",
              "      <td>0.018883</td>\n",
              "      <td>0.020709</td>\n",
              "      <td>0.018883</td>\n",
              "    </tr>\n",
              "    <tr>\n",
              "      <th>1987</th>\n",
              "      <td>0.019029</td>\n",
              "      <td>0.019144</td>\n",
              "      <td>0.019055</td>\n",
              "      <td>0.019109</td>\n",
              "      <td>0.021855</td>\n",
              "      <td>0.019109</td>\n",
              "    </tr>\n",
              "    <tr>\n",
              "      <th>1988</th>\n",
              "      <td>0.018547</td>\n",
              "      <td>0.018971</td>\n",
              "      <td>0.018586</td>\n",
              "      <td>0.019031</td>\n",
              "      <td>0.025391</td>\n",
              "      <td>0.019031</td>\n",
              "    </tr>\n",
              "  </tbody>\n",
              "</table>\n",
              "<p>1989 rows × 6 columns</p>\n",
              "</div>\n",
              "      <button class=\"colab-df-convert\" onclick=\"convertToInteractive('df-5240d1dc-bd25-4fba-9468-a114f2beb541')\"\n",
              "              title=\"Convert this dataframe to an interactive table.\"\n",
              "              style=\"display:none;\">\n",
              "        \n",
              "  <svg xmlns=\"http://www.w3.org/2000/svg\" height=\"24px\"viewBox=\"0 0 24 24\"\n",
              "       width=\"24px\">\n",
              "    <path d=\"M0 0h24v24H0V0z\" fill=\"none\"/>\n",
              "    <path d=\"M18.56 5.44l.94 2.06.94-2.06 2.06-.94-2.06-.94-.94-2.06-.94 2.06-2.06.94zm-11 1L8.5 8.5l.94-2.06 2.06-.94-2.06-.94L8.5 2.5l-.94 2.06-2.06.94zm10 10l.94 2.06.94-2.06 2.06-.94-2.06-.94-.94-2.06-.94 2.06-2.06.94z\"/><path d=\"M17.41 7.96l-1.37-1.37c-.4-.4-.92-.59-1.43-.59-.52 0-1.04.2-1.43.59L10.3 9.45l-7.72 7.72c-.78.78-.78 2.05 0 2.83L4 21.41c.39.39.9.59 1.41.59.51 0 1.02-.2 1.41-.59l7.78-7.78 2.81-2.81c.8-.78.8-2.07 0-2.86zM5.41 20L4 18.59l7.72-7.72 1.47 1.35L5.41 20z\"/>\n",
              "  </svg>\n",
              "      </button>\n",
              "      \n",
              "  <style>\n",
              "    .colab-df-container {\n",
              "      display:flex;\n",
              "      flex-wrap:wrap;\n",
              "      gap: 12px;\n",
              "    }\n",
              "\n",
              "    .colab-df-convert {\n",
              "      background-color: #E8F0FE;\n",
              "      border: none;\n",
              "      border-radius: 50%;\n",
              "      cursor: pointer;\n",
              "      display: none;\n",
              "      fill: #1967D2;\n",
              "      height: 32px;\n",
              "      padding: 0 0 0 0;\n",
              "      width: 32px;\n",
              "    }\n",
              "\n",
              "    .colab-df-convert:hover {\n",
              "      background-color: #E2EBFA;\n",
              "      box-shadow: 0px 1px 2px rgba(60, 64, 67, 0.3), 0px 1px 3px 1px rgba(60, 64, 67, 0.15);\n",
              "      fill: #174EA6;\n",
              "    }\n",
              "\n",
              "    [theme=dark] .colab-df-convert {\n",
              "      background-color: #3B4455;\n",
              "      fill: #D2E3FC;\n",
              "    }\n",
              "\n",
              "    [theme=dark] .colab-df-convert:hover {\n",
              "      background-color: #434B5C;\n",
              "      box-shadow: 0px 1px 3px 1px rgba(0, 0, 0, 0.15);\n",
              "      filter: drop-shadow(0px 1px 2px rgba(0, 0, 0, 0.3));\n",
              "      fill: #FFFFFF;\n",
              "    }\n",
              "  </style>\n",
              "\n",
              "      <script>\n",
              "        const buttonEl =\n",
              "          document.querySelector('#df-5240d1dc-bd25-4fba-9468-a114f2beb541 button.colab-df-convert');\n",
              "        buttonEl.style.display =\n",
              "          google.colab.kernel.accessAllowed ? 'block' : 'none';\n",
              "\n",
              "        async function convertToInteractive(key) {\n",
              "          const element = document.querySelector('#df-5240d1dc-bd25-4fba-9468-a114f2beb541');\n",
              "          const dataTable =\n",
              "            await google.colab.kernel.invokeFunction('convertToInteractive',\n",
              "                                                     [key], {});\n",
              "          if (!dataTable) return;\n",
              "\n",
              "          const docLinkHtml = 'Like what you see? Visit the ' +\n",
              "            '<a target=\"_blank\" href=https://colab.research.google.com/notebooks/data_table.ipynb>data table notebook</a>'\n",
              "            + ' to learn more about interactive tables.';\n",
              "          element.innerHTML = '';\n",
              "          dataTable['output_type'] = 'display_data';\n",
              "          await google.colab.output.renderOutput(dataTable, element);\n",
              "          const docLink = document.createElement('div');\n",
              "          docLink.innerHTML = docLinkHtml;\n",
              "          element.appendChild(docLink);\n",
              "        }\n",
              "      </script>\n",
              "    </div>\n",
              "  </div>\n",
              "  "
            ]
          },
          "metadata": {},
          "execution_count": 27
        }
      ]
    },
    {
      "cell_type": "markdown",
      "source": [
        "# **RAW DATA PREDICTION (MAE,MSE,RMSE)**"
      ],
      "metadata": {
        "id": "cDqZ5Um-1LB4"
      }
    },
    {
      "cell_type": "code",
      "source": [
        "from sklearn.linear_model import LinearRegression\n",
        "lr = LinearRegression()"
      ],
      "metadata": {
        "id": "QhNhwOPsveXg"
      },
      "execution_count": null,
      "outputs": []
    },
    {
      "cell_type": "code",
      "source": [
        "x = df[['Open','High','Low','Close','Volume']]\n",
        "y = df['Adj Close']"
      ],
      "metadata": {
        "id": "50wyGNlwzjJg"
      },
      "execution_count": null,
      "outputs": []
    },
    {
      "cell_type": "code",
      "source": [
        "x1_train, x1_test, y1_train, y1_test = train_test_split(x, y, test_size=0.2,random_state=101)"
      ],
      "metadata": {
        "id": "aFE3-gEXzqLj"
      },
      "execution_count": null,
      "outputs": []
    },
    {
      "cell_type": "code",
      "source": [
        "lr.fit(x1_train,y1_train)\n",
        "LinearRegression(copy_X=True, fit_intercept=True, n_jobs=None,normalize=False)"
      ],
      "metadata": {
        "colab": {
          "base_uri": "https://localhost:8080/"
        },
        "id": "LAH-ziUczxbQ",
        "outputId": "af6b2ee4-4b87-4c5b-bffc-bca3005f55fc"
      },
      "execution_count": null,
      "outputs": [
        {
          "output_type": "execute_result",
          "data": {
            "text/plain": [
              "LinearRegression(normalize=False)"
            ]
          },
          "metadata": {},
          "execution_count": 55
        }
      ]
    },
    {
      "cell_type": "code",
      "source": [
        "predictions = lr.predict(x1_test)\n",
        "predictions"
      ],
      "metadata": {
        "colab": {
          "base_uri": "https://localhost:8080/"
        },
        "id": "NiFrWUqLz0g-",
        "outputId": "fa47367d-0811-4a4b-cbc8-f10cafec0fbb"
      },
      "execution_count": null,
      "outputs": [
        {
          "output_type": "execute_result",
          "data": {
            "text/plain": [
              "array([17084.490234, 10428.049805,  9544.200195, 11059.019531,\n",
              "       16990.689453, 17895.220703, 15498.320312,  9543.519531,\n",
              "       15451.089844, 14897.549805, 17926.429688,  8500.330078,\n",
              "       11113.950195, 12020.030273, 16014.379883,  8078.359863,\n",
              "       17050.75    , 12170.179688, 13104.139648, 11722.889648,\n",
              "       12962.80957 , 15082.620117, 16380.410156, 11151.830078,\n",
              "       17824.289062, 11493.570312, 10572.730469, 16906.619141,\n",
              "       17758.210938, 11573.490234, 15177.540039, 12294.      ,\n",
              "       11255.780273, 12883.950195, 15494.780273, 16867.509766,\n",
              "       13575.360352, 11428.55957 , 12287.040039, 16368.269531,\n",
              "       16247.219727, 10739.30957 , 12479.879883, 15755.360352,\n",
              "       12805.389648, 13268.570312, 11284.540039, 16818.130859,\n",
              "       14995.230469, 14802.240234, 13564.639648, 16817.939453,\n",
              "       10812.040039, 17804.869141, 16514.099609, 16826.599609,\n",
              "        8183.169922, 13900.129883,  7997.279785,  9599.75    ,\n",
              "       11523.009766, 11961.519531,  8149.089844, 11671.879883,\n",
              "       12964.099609, 10663.990234, 12418.419922, 13539.860352,\n",
              "       14659.55957 , 15484.259766, 16599.849609, 11585.379883,\n",
              "       16417.009766, 16945.919922,  9509.280273, 17982.519531,\n",
              "        8952.889648, 15871.349609, 16336.660156, 12772.469727,\n",
              "       16373.860352, 11434.839844, 13860.580078, 15884.570312,\n",
              "       11569.709961, 16880.359375, 13471.219727, 17949.369141,\n",
              "       12569.790039, 15548.540039, 10627.259766,  9487.669922,\n",
              "       18209.189453, 13390.509766, 17908.279297, 12437.120117,\n",
              "        9033.660156, 10099.139648, 11268.919922, 16722.339844,\n",
              "       12212.790039, 11143.30957 , 10198.030273, 16530.939453,\n",
              "       11796.160156, 16418.679688, 14909.599609, 10753.620117,\n",
              "       11893.860352, 12319.730469,  7749.810059, 12479.580078,\n",
              "       15392.200195, 11205.030273,  9547.219727,  8924.139648,\n",
              "       17195.419922, 16643.009766, 17711.119141, 16072.799805,\n",
              "       16384.580078, 16654.769531, 11320.709961, 13103.679688,\n",
              "       13345.889648, 11577.509766, 17773.640625, 13579.469727,\n",
              "       13172.759766, 17138.199219, 12397.379883, 14960.589844,\n",
              "       14818.75    , 16697.289062, 15944.459961, 15118.490234,\n",
              "       17419.75    , 14565.25    , 17801.199219,  9829.870117,\n",
              "       17511.570312, 10944.719727, 14839.799805, 13880.080078,\n",
              "       17515.230469, 10467.160156, 13001.55957 ,  7365.669922,\n",
              "       17180.839844, 12086.019531, 15326.599609,  8076.290039,\n",
              "       17673.019531,  8497.179688, 12965.69043 , 10041.480469,\n",
              "       10319.950195, 13172.139648, 16518.539062, 12908.700195,\n",
              "        8599.179688, 17623.050781, 14932.410156, 17425.029297,\n",
              "       15567.740234, 11190.69043 , 17920.330078, 11146.570312,\n",
              "       16569.279297, 18053.710938, 11382.089844, 12248.549805,\n",
              "       11105.849609,  9241.450195, 18034.929688, 13548.94043 ,\n",
              "       11020.400391,  8277.320312, 15302.799805, 12849.589844,\n",
              "       16401.019531, 13986.519531, 15129.669922,  8473.969727,\n",
              "       10644.25    , 12638.740234, 10363.019531, 11613.299805,\n",
              "       18116.039062, 17946.679688, 17368.5     , 15543.740234,\n",
              "       15372.799805, 17718.539062, 12580.69043 , 11482.900391,\n",
              "        7850.410156, 17851.509766, 11018.660156, 16257.94043 ,\n",
              "       12261.419922, 10332.44043 , 17076.869141,  8273.580078,\n",
              "       15248.120117, 17524.910156, 10620.160156,  9605.410156,\n",
              "       17501.650391, 17737.160156, 13880.620117, 11697.30957 ,\n",
              "       17888.349609, 17440.589844,  8770.919922, 11868.80957 ,\n",
              "       16484.990234,  8504.080078, 12921.410156, 12446.879883,\n",
              "       17541.960938, 15843.530273, 13473.530273, 10390.110352,\n",
              "       10444.370117, 12560.179688,  6547.049805, 12050.      ,\n",
              "       14974.959961, 17760.410156, 14450.05957 , 10014.719727,\n",
              "       10450.639648, 18068.230469, 18029.849609, 10680.429688,\n",
              "       16446.810547, 12570.950195,  8299.860352, 11362.19043 ,\n",
              "       12548.370117, 17983.070312, 12788.509766, 14613.480469,\n",
              "        7949.089844, 11167.320312, 16504.289062,  8635.419922,\n",
              "       14922.5     ,  9731.25    , 17730.109375, 13779.330078,\n",
              "       10136.629883, 11117.05957 , 10309.240234, 11891.929688,\n",
              "       13021.820312, 14676.299805, 13583.650391, 12573.799805,\n",
              "       11201.969727, 11516.919922, 10680.769531, 18076.189453,\n",
              "       11823.700195, 17584.519531,  8375.450195, 15879.110352,\n",
              "       12855.040039, 16058.349609, 11091.870117, 10462.769531,\n",
              "       17529.980469, 18086.449219, 17791.169922, 11642.469727,\n",
              "       17086.630859, 10594.830078, 10978.620117, 15618.219727,\n",
              "       12080.379883, 16808.490234, 13032.75    ,  9743.620117,\n",
              "       12985.110352,  8146.52002 , 13494.610352,  9370.070312,\n",
              "       15224.69043 , 18024.060547,  8824.339844, 12369.379883,\n",
              "       17712.660156, 12041.969727, 17550.689453, 17137.359375,\n",
              "       10197.469727,  7957.060059,  7936.75    , 16245.870117,\n",
              "       17215.970703, 11980.519531, 10653.55957 ,  9762.69043 ,\n",
              "       18037.970703, 15135.839844, 13825.330078, 10913.379883,\n",
              "       13080.730469, 16049.129883, 10625.830078, 16501.650391,\n",
              "       15885.219727, 15307.169922, 16360.179688, 10572.019531,\n",
              "       17128.550781,  7170.060059, 13057.459961,  8175.77002 ,\n",
              "       10710.549805, 13649.700195, 16530.550781,  8740.870117,\n",
              "       11774.589844, 13232.620117, 16452.720703, 16964.099609,\n",
              "        8579.110352, 17100.179688, 17483.009766, 17619.509766,\n",
              "       17729.679688, 10015.860352, 17729.210938, 14127.820312,\n",
              "       17856.779297, 15445.240234, 12258.200195, 17603.320312,\n",
              "       12684.679688,  7886.569824, 13250.110352, 12089.959961,\n",
              "        7975.850098, 10308.259766, 11139.299805, 12651.910156,\n",
              "       12943.360352, 12824.389648, 10120.459961, 13203.580078,\n",
              "        9771.910156, 16408.539062, 12959.709961, 15191.700195,\n",
              "       10733.830078, 10068.009766, 11019.69043 , 14455.820312,\n",
              "       16331.049805,  9279.160156, 12721.459961, 16201.320312,\n",
              "       15072.580078, 10618.19043 , 14075.370117, 13981.759766,\n",
              "       17678.230469,  8711.820312,  7182.080078, 10002.179688,\n",
              "       11123.330078, 17651.259766,  7552.290039, 12394.660156,\n",
              "       14572.849609, 11410.209961, 17890.359375,  9870.299805,\n",
              "       13228.30957 , 10854.650391, 16912.109375, 12188.69043 ,\n",
              "       10860.259766, 17907.869141, 16543.080078, 17417.269531,\n",
              "       12675.75    , 15399.650391, 17949.589844, 16374.30957 ,\n",
              "       17694.679688, 10060.05957 , 10850.360352, 11421.990234,\n",
              "       10018.280273, 17614.900391])"
            ]
          },
          "metadata": {},
          "execution_count": 57
        }
      ]
    },
    {
      "cell_type": "code",
      "source": [
        "inter = lr.intercept_\n",
        "coe = lr.coef_\n",
        "print(inter)\n",
        "print(coe)"
      ],
      "metadata": {
        "colab": {
          "base_uri": "https://localhost:8080/"
        },
        "id": "2jLgmH1Iz5uy",
        "outputId": "09a8d342-7f94-482c-f2c8-e4ef8ff405f1"
      },
      "execution_count": null,
      "outputs": [
        {
          "output_type": "stream",
          "name": "stdout",
          "text": [
            "-3.637978807091713e-12\n",
            "[ 9.38343493e-15 -1.09138501e-14  7.34267768e-16  1.00000000e+00\n",
            "  1.35525272e-20]\n"
          ]
        }
      ]
    },
    {
      "cell_type": "code",
      "source": [
        "from sklearn import metrics\n",
        "\n",
        "print('MAE:', metrics.mean_absolute_error(y1_test, predictions))\n",
        "print('MSE:', metrics.mean_squared_error(y1_test, predictions))\n",
        "print('RMSE:', np.sqrt(metrics.mean_squared_error(y1_test, predictions)))"
      ],
      "metadata": {
        "colab": {
          "base_uri": "https://localhost:8080/"
        },
        "id": "w3O-llls0X7y",
        "outputId": "79c2b09a-0913-4b3d-bb26-201651a06eee"
      },
      "execution_count": null,
      "outputs": [
        {
          "output_type": "stream",
          "name": "stdout",
          "text": [
            "MAE: 1.7664306644986771e-12\n",
            "MSE: 4.973475391556269e-24\n",
            "RMSE: 2.230129007828083e-12\n"
          ]
        }
      ]
    },
    {
      "cell_type": "markdown",
      "source": [
        "#**Normalized Data Predictions(MAE,MSE,RMSE)**\n"
      ],
      "metadata": {
        "id": "_xJw7b760Ft2"
      }
    },
    {
      "cell_type": "code",
      "source": [
        "x2 = normalized_df[['Open','High','Low','Close','Volume']]\n",
        "y2= normalized_df['Adj Close']"
      ],
      "metadata": {
        "id": "llJmqfMKv8Oe"
      },
      "execution_count": null,
      "outputs": []
    },
    {
      "cell_type": "code",
      "source": [
        "from sklearn.model_selection import train_test_split"
      ],
      "metadata": {
        "id": "OvL49S5Swf0J"
      },
      "execution_count": null,
      "outputs": []
    },
    {
      "cell_type": "code",
      "source": [
        "x_train, x_test, y_train, y_test = train_test_split(x2, y2, test_size=0.2,random_state=101)"
      ],
      "metadata": {
        "id": "8vhMjlCmwhyx"
      },
      "execution_count": null,
      "outputs": []
    },
    {
      "cell_type": "code",
      "source": [
        "lr.fit(x_train,y_train)\n",
        "LinearRegression(copy_X=True, fit_intercept=True, n_jobs=None,normalize=True)"
      ],
      "metadata": {
        "colab": {
          "base_uri": "https://localhost:8080/"
        },
        "id": "RSyZauNIwmjU",
        "outputId": "5233170c-be55-47f3-cafd-9d4d806b929e"
      },
      "execution_count": null,
      "outputs": [
        {
          "output_type": "execute_result",
          "data": {
            "text/plain": [
              "LinearRegression(normalize=True)"
            ]
          },
          "metadata": {},
          "execution_count": 46
        }
      ]
    },
    {
      "cell_type": "code",
      "source": [
        "predictions = lr.predict(x_test)"
      ],
      "metadata": {
        "id": "BVojqQX3wtbz"
      },
      "execution_count": null,
      "outputs": []
    },
    {
      "cell_type": "code",
      "source": [
        "predictions"
      ],
      "metadata": {
        "colab": {
          "base_uri": "https://localhost:8080/"
        },
        "id": "0_psr0OExKdS",
        "outputId": "007db37b-4a5d-43e8-b813-7d0f60b6be90"
      },
      "execution_count": null,
      "outputs": [
        {
          "output_type": "execute_result",
          "data": {
            "text/plain": [
              "array([0.02770874, 0.01691289, 0.0154794 , 0.01793624, 0.02755661,\n",
              "       0.02902363, 0.02513618, 0.0154783 , 0.02505958, 0.02416182,\n",
              "       0.02907425, 0.01378639, 0.01802533, 0.01949487, 0.02597316,\n",
              "       0.01310201, 0.02765402, 0.01973839, 0.02125315, 0.01901295,\n",
              "       0.02102393, 0.02446197, 0.02656681, 0.01808676, 0.02890859,\n",
              "       0.01864102, 0.01714754, 0.02742025, 0.02880142, 0.01877064,\n",
              "       0.02461592, 0.01993921, 0.01825536, 0.02089603, 0.02513044,\n",
              "       0.02735682, 0.0220174 , 0.01853558, 0.01992792, 0.02654712,\n",
              "       0.0263508 , 0.01741771, 0.02024068, 0.02555307, 0.02076861,\n",
              "       0.02151983, 0.018302  , 0.02727674, 0.02432024, 0.02400724,\n",
              "       0.02200001, 0.02727643, 0.01753567, 0.0288771 , 0.02678364,\n",
              "       0.02729047, 0.013272  , 0.02254413, 0.01297051, 0.0155695 ,\n",
              "       0.01868877, 0.01939997, 0.01321672, 0.01893021, 0.02102602,\n",
              "       0.01729555, 0.020141  , 0.02195983, 0.02377583, 0.02511338,\n",
              "       0.02692272, 0.01878992, 0.02662617, 0.027484  , 0.01542277,\n",
              "       0.02916522, 0.01452038, 0.02574119, 0.02649586, 0.02071522,\n",
              "       0.02655619, 0.01854577, 0.02247999, 0.02576263, 0.01876451,\n",
              "       0.02737766, 0.0218485 , 0.02911145, 0.0203865 , 0.02521763,\n",
              "       0.01723598, 0.01538772, 0.02953285, 0.0217176 , 0.02904481,\n",
              "       0.02017133, 0.01465138, 0.01637944, 0.01827667, 0.02712138,\n",
              "       0.0198075 , 0.01807294, 0.01653983, 0.02681095, 0.01913178,\n",
              "       0.02662888, 0.02418136, 0.01744092, 0.01929024, 0.01998094,\n",
              "       0.01256915, 0.02024019, 0.02496407, 0.01817305, 0.0154843 ,\n",
              "       0.01447375, 0.02788865, 0.02699272, 0.02872505, 0.02606791,\n",
              "       0.02657358, 0.02701179, 0.01836066, 0.0212524 , 0.02164523,\n",
              "       0.01877716, 0.02882645, 0.02202407, 0.02136444, 0.02779585,\n",
              "       0.02010688, 0.02426406, 0.02403401, 0.02708075, 0.02585976,\n",
              "       0.02452015, 0.02825248, 0.02362287, 0.02887114, 0.01594272,\n",
              "       0.0284014 , 0.01775086, 0.02406815, 0.02251162, 0.02840734,\n",
              "       0.01697632, 0.02108678, 0.01194612, 0.027865  , 0.01960189,\n",
              "       0.02485768, 0.01309865, 0.02866325, 0.01378128, 0.0210286 ,\n",
              "       0.01628593, 0.01673757, 0.02136343, 0.02679084, 0.02093617,\n",
              "       0.01394671, 0.02858221, 0.02421835, 0.02826105, 0.02524877,\n",
              "       0.01814979, 0.02906436, 0.01807823, 0.02687314, 0.02928068,\n",
              "       0.01846021, 0.01986549, 0.01801219, 0.01498839, 0.02925022,\n",
              "       0.02197455, 0.0178736 , 0.0134247 , 0.02481908, 0.0208403 ,\n",
              "       0.02660024, 0.02268425, 0.02453828, 0.01374364, 0.01726354,\n",
              "       0.02049833, 0.01680742, 0.01883521, 0.02938177, 0.02910709,\n",
              "       0.02816936, 0.02520985, 0.02493261, 0.02873708, 0.02040418,\n",
              "       0.01862371, 0.01273231, 0.02895274, 0.01787078, 0.02636819,\n",
              "       0.01988637, 0.01675782, 0.02769638, 0.01341863, 0.02473039,\n",
              "       0.02842304, 0.01722447, 0.01557868, 0.02838532, 0.02876728,\n",
              "       0.02251249, 0.01897146, 0.02901249, 0.02828628, 0.01422525,\n",
              "       0.01924961, 0.02673643, 0.01379247, 0.02095678, 0.02018716,\n",
              "       0.02845069, 0.02569607, 0.02185225, 0.01685136, 0.01693936,\n",
              "       0.02037092, 0.01061843, 0.01954347, 0.02428736, 0.02880499,\n",
              "       0.02343605, 0.01624252, 0.01694953, 0.02930423, 0.02924198,\n",
              "       0.01732222, 0.02667451, 0.02038838, 0.01346125, 0.01842794,\n",
              "       0.02035176, 0.02916611, 0.02074124, 0.02370109, 0.01289235,\n",
              "       0.01811189, 0.02676773, 0.01400549, 0.02420228, 0.01578277,\n",
              "       0.02875584, 0.02234821, 0.01644025, 0.01803037, 0.0167202 ,\n",
              "       0.01928711, 0.02111964, 0.02380298, 0.02203085, 0.02039301,\n",
              "       0.01816808, 0.01867889, 0.01732277, 0.02931714, 0.01917645,\n",
              "       0.02851972, 0.01358385, 0.02575377, 0.02084914, 0.02604448,\n",
              "       0.01798952, 0.0169692 , 0.02843126, 0.02933378, 0.02885488,\n",
              "       0.01888251, 0.02771221, 0.01718338, 0.01780584, 0.02533064,\n",
              "       0.01959275, 0.0272611 , 0.02113736, 0.01580284, 0.0210601 ,\n",
              "       0.01321256, 0.02188644, 0.01519699, 0.02469239, 0.02923259,\n",
              "       0.01431189, 0.02006146, 0.02872754, 0.01953045, 0.02846485,\n",
              "       0.02779448, 0.01653892, 0.01290528, 0.01287234, 0.02634861,\n",
              "       0.02792198, 0.01943079, 0.01727864, 0.01583377, 0.02925515,\n",
              "       0.02454829, 0.02242282, 0.01770003, 0.02121518, 0.02602952,\n",
              "       0.01723366, 0.02676345, 0.02576368, 0.02482616, 0.026534  ,\n",
              "       0.01714639, 0.0277802 , 0.01162887, 0.02117744, 0.01326   ,\n",
              "       0.01737107, 0.02213797, 0.02681032, 0.01417651, 0.0190968 ,\n",
              "       0.02146152, 0.02668409, 0.02751348, 0.01391416, 0.02773418,\n",
              "       0.02835508, 0.02857647, 0.02875515, 0.01624437, 0.02875439,\n",
              "       0.02291342, 0.02896129, 0.0250501 , 0.01988115, 0.02855021,\n",
              "       0.02057284, 0.01279095, 0.02148989, 0.01960828, 0.01293575,\n",
              "       0.01671861, 0.01806644, 0.02051969, 0.02099238, 0.02079943,\n",
              "       0.01641402, 0.02141443, 0.01584872, 0.02661244, 0.0210189 ,\n",
              "       0.02463889, 0.01740882, 0.01632895, 0.01787245, 0.02344539,\n",
              "       0.02648676, 0.01504955, 0.02063249, 0.02627636, 0.02444569,\n",
              "       0.01722127, 0.02282835, 0.02267653, 0.0286717 , 0.0141294 ,\n",
              "       0.01164836, 0.01622219, 0.01804054, 0.02862796, 0.0122488 ,\n",
              "       0.02010247, 0.0236352 , 0.01850582, 0.02901575, 0.01600829,\n",
              "       0.02145453, 0.01760478, 0.02742916, 0.01976841, 0.01761388,\n",
              "       0.02904415, 0.02683064, 0.02824846, 0.02055836, 0.02497615,\n",
              "       0.02911181, 0.02655692, 0.02869838, 0.01631606, 0.01759782,\n",
              "       0.01852493, 0.0162483 , 0.02856899])"
            ]
          },
          "metadata": {},
          "execution_count": 48
        }
      ]
    },
    {
      "cell_type": "code",
      "source": [
        "intercept = lr.intercept_\n",
        "print(intercept)"
      ],
      "metadata": {
        "colab": {
          "base_uri": "https://localhost:8080/"
        },
        "id": "eNLhISbmxMPH",
        "outputId": "7d72b5a2-4b8f-430a-f532-220034db61de"
      },
      "execution_count": null,
      "outputs": [
        {
          "output_type": "stream",
          "name": "stdout",
          "text": [
            "-1.3877787807814457e-17\n"
          ]
        }
      ]
    },
    {
      "cell_type": "code",
      "source": [
        "coef = lr.coef_\n",
        "print(coef)"
      ],
      "metadata": {
        "colab": {
          "base_uri": "https://localhost:8080/"
        },
        "id": "Z6AbLDqcxQ4d",
        "outputId": "151f6faf-dd69-45ef-86ae-a9262374254e"
      },
      "execution_count": null,
      "outputs": [
        {
          "output_type": "stream",
          "name": "stdout",
          "text": [
            "[ 6.18917833e-16  1.55431223e-15 -1.63757896e-15  1.00000000e+00\n",
            "  1.66533454e-16]\n"
          ]
        }
      ]
    },
    {
      "cell_type": "code",
      "source": [
        "from sklearn import metrics\n",
        "\n",
        "print('MAE:', metrics.mean_absolute_error(y_test, predictions))\n",
        "print('MSE:', metrics.mean_squared_error(y_test, predictions))\n",
        "print('RMSE:', np.sqrt(metrics.mean_squared_error(y_test, predictions)))"
      ],
      "metadata": {
        "colab": {
          "base_uri": "https://localhost:8080/"
        },
        "id": "bR3GkxQlxoaC",
        "outputId": "fbb117b8-5eba-4fe7-f66e-154ce48d7810"
      },
      "execution_count": null,
      "outputs": [
        {
          "output_type": "stream",
          "name": "stdout",
          "text": [
            "MAE: 2.170583645820226e-18\n",
            "MSE: 1.0328283228772629e-35\n",
            "RMSE: 3.2137646504952148e-18\n"
          ]
        }
      ]
    },
    {
      "cell_type": "code",
      "source": [],
      "metadata": {
        "id": "FgTuotGByF1j"
      },
      "execution_count": null,
      "outputs": []
    },
    {
      "cell_type": "markdown",
      "source": [
        "# **CONCLUSION**"
      ],
      "metadata": {
        "id": "BkWMMVgr1xAR"
      }
    },
    {
      "cell_type": "markdown",
      "source": [
        "The Raw data before being normalized gives *MAE: 1.7664306644986771e-12*,       *MSE: 4.973475391556269e-24* AND *RMSE: 2.230129007828083e-12* which is already very low but **Normalized data** gives an *MAE*: 2.170583645820226e-18 ,\n",
        "*MSE: 1.0328283228772629e-35* and  *RMSE: 3.2137646504952148e-18* which is lower than that provinf that normalized dataframe helps to bring down the errors to further enhance the predictions."
      ],
      "metadata": {
        "id": "brD9vwaA13er"
      }
    },
    {
      "cell_type": "code",
      "source": [],
      "metadata": {
        "id": "B5uF4Phq1162"
      },
      "execution_count": null,
      "outputs": []
    }
  ]
}